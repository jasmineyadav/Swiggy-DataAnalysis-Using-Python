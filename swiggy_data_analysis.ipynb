{
 "cells": [
  {
   "cell_type": "code",
   "execution_count": 5,
   "id": "12fc4be2",
   "metadata": {},
   "outputs": [],
   "source": [
    "# library import\n",
    "import pandas as pd\n",
    "import numpy as np\n",
    "import random as rnd"
   ]
  },
  {
   "cell_type": "code",
   "execution_count": 6,
   "id": "de8f1ddc",
   "metadata": {},
   "outputs": [],
   "source": [
    "# for data visualization \n",
    "import seaborn as sns \n",
    "import matplotlib.pyplot as plt\n",
    "%matplotlib inline"
   ]
  },
  {
   "cell_type": "code",
   "execution_count": 7,
   "id": "6e81e7ba",
   "metadata": {},
   "outputs": [
    {
     "data": {
      "text/html": [
       "<div>\n",
       "<style scoped>\n",
       "    .dataframe tbody tr th:only-of-type {\n",
       "        vertical-align: middle;\n",
       "    }\n",
       "\n",
       "    .dataframe tbody tr th {\n",
       "        vertical-align: top;\n",
       "    }\n",
       "\n",
       "    .dataframe thead th {\n",
       "        text-align: right;\n",
       "    }\n",
       "</style>\n",
       "<table border=\"1\" class=\"dataframe\">\n",
       "  <thead>\n",
       "    <tr style=\"text-align: right;\">\n",
       "      <th></th>\n",
       "      <th>Shop_Name</th>\n",
       "      <th>Cuisine</th>\n",
       "      <th>Location</th>\n",
       "      <th>Rating</th>\n",
       "      <th>Cost_for_Two</th>\n",
       "    </tr>\n",
       "  </thead>\n",
       "  <tbody>\n",
       "    <tr>\n",
       "      <th>0</th>\n",
       "      <td>Kanti Sweets</td>\n",
       "      <td>Sweets</td>\n",
       "      <td>Koramangala, Koramangala</td>\n",
       "      <td>4.3</td>\n",
       "      <td>₹ 150</td>\n",
       "    </tr>\n",
       "    <tr>\n",
       "      <th>1</th>\n",
       "      <td>Mumbai Tiffin</td>\n",
       "      <td>North Indian, Home Food, Thalis, Combo</td>\n",
       "      <td>Sector 5, HSR</td>\n",
       "      <td>4.4</td>\n",
       "      <td>₹ 400</td>\n",
       "    </tr>\n",
       "    <tr>\n",
       "      <th>2</th>\n",
       "      <td>Sri Krishna sagar</td>\n",
       "      <td>South Indian, North Indian, Fast Food, Beverag...</td>\n",
       "      <td>6th Block, Koramangala</td>\n",
       "      <td>4.1</td>\n",
       "      <td>₹ 126</td>\n",
       "    </tr>\n",
       "    <tr>\n",
       "      <th>3</th>\n",
       "      <td>Al Daaz</td>\n",
       "      <td>American, Arabian, Chinese, Desserts, Fast Foo...</td>\n",
       "      <td>HSR, HSR</td>\n",
       "      <td>4.4</td>\n",
       "      <td>₹ 400</td>\n",
       "    </tr>\n",
       "    <tr>\n",
       "      <th>4</th>\n",
       "      <td>Beijing Bites</td>\n",
       "      <td>Chinese, Thai</td>\n",
       "      <td>5th Block, Koramangala</td>\n",
       "      <td>4.1</td>\n",
       "      <td>₹ 450</td>\n",
       "    </tr>\n",
       "  </tbody>\n",
       "</table>\n",
       "</div>"
      ],
      "text/plain": [
       "           Shop_Name                                            Cuisine  \\\n",
       "0       Kanti Sweets                                             Sweets   \n",
       "1      Mumbai Tiffin             North Indian, Home Food, Thalis, Combo   \n",
       "2  Sri Krishna sagar  South Indian, North Indian, Fast Food, Beverag...   \n",
       "3            Al Daaz  American, Arabian, Chinese, Desserts, Fast Foo...   \n",
       "4      Beijing Bites                                      Chinese, Thai   \n",
       "\n",
       "                   Location Rating Cost_for_Two  \n",
       "0  Koramangala, Koramangala    4.3        ₹ 150  \n",
       "1             Sector 5, HSR    4.4        ₹ 400  \n",
       "2    6th Block, Koramangala    4.1        ₹ 126  \n",
       "3                  HSR, HSR    4.4        ₹ 400  \n",
       "4    5th Block, Koramangala    4.1        ₹ 450  "
      ]
     },
     "execution_count": 7,
     "metadata": {},
     "output_type": "execute_result"
    }
   ],
   "source": [
    "df = pd.read_csv(r'C:\\Users\\yadav\\OneDrive\\Desktop\\swiggy_bangalore.csv')\n",
    "df.head()"
   ]
  },
  {
   "cell_type": "code",
   "execution_count": 8,
   "id": "e22f7b35",
   "metadata": {
    "scrolled": true
   },
   "outputs": [
    {
     "data": {
      "text/html": [
       "<div>\n",
       "<style scoped>\n",
       "    .dataframe tbody tr th:only-of-type {\n",
       "        vertical-align: middle;\n",
       "    }\n",
       "\n",
       "    .dataframe tbody tr th {\n",
       "        vertical-align: top;\n",
       "    }\n",
       "\n",
       "    .dataframe thead th {\n",
       "        text-align: right;\n",
       "    }\n",
       "</style>\n",
       "<table border=\"1\" class=\"dataframe\">\n",
       "  <thead>\n",
       "    <tr style=\"text-align: right;\">\n",
       "      <th></th>\n",
       "      <th>Shop_Name</th>\n",
       "      <th>Cuisine</th>\n",
       "      <th>Location</th>\n",
       "      <th>Rating</th>\n",
       "      <th>Cost_for_Two</th>\n",
       "    </tr>\n",
       "  </thead>\n",
       "  <tbody>\n",
       "    <tr>\n",
       "      <th>count</th>\n",
       "      <td>118</td>\n",
       "      <td>118</td>\n",
       "      <td>118</td>\n",
       "      <td>118</td>\n",
       "      <td>118</td>\n",
       "    </tr>\n",
       "    <tr>\n",
       "      <th>unique</th>\n",
       "      <td>115</td>\n",
       "      <td>79</td>\n",
       "      <td>65</td>\n",
       "      <td>13</td>\n",
       "      <td>30</td>\n",
       "    </tr>\n",
       "    <tr>\n",
       "      <th>top</th>\n",
       "      <td>La Pino'z Pizza</td>\n",
       "      <td>North Indian</td>\n",
       "      <td>BTM, BTM</td>\n",
       "      <td>4.1</td>\n",
       "      <td>₹ 300</td>\n",
       "    </tr>\n",
       "    <tr>\n",
       "      <th>freq</th>\n",
       "      <td>2</td>\n",
       "      <td>12</td>\n",
       "      <td>13</td>\n",
       "      <td>30</td>\n",
       "      <td>16</td>\n",
       "    </tr>\n",
       "  </tbody>\n",
       "</table>\n",
       "</div>"
      ],
      "text/plain": [
       "              Shop_Name       Cuisine  Location Rating Cost_for_Two\n",
       "count               118           118       118    118          118\n",
       "unique              115            79        65     13           30\n",
       "top     La Pino'z Pizza  North Indian  BTM, BTM    4.1        ₹ 300\n",
       "freq                  2            12        13     30           16"
      ]
     },
     "execution_count": 8,
     "metadata": {},
     "output_type": "execute_result"
    }
   ],
   "source": [
    "df.describe()"
   ]
  },
  {
   "cell_type": "code",
   "execution_count": 9,
   "id": "846c50d6",
   "metadata": {},
   "outputs": [
    {
     "name": "stdout",
     "output_type": "stream",
     "text": [
      "<class 'pandas.core.frame.DataFrame'>\n",
      "RangeIndex: 118 entries, 0 to 117\n",
      "Data columns (total 5 columns):\n",
      " #   Column        Non-Null Count  Dtype \n",
      "---  ------        --------------  ----- \n",
      " 0   Shop_Name     118 non-null    object\n",
      " 1   Cuisine       118 non-null    object\n",
      " 2   Location      118 non-null    object\n",
      " 3   Rating        118 non-null    object\n",
      " 4   Cost_for_Two  118 non-null    object\n",
      "dtypes: object(5)\n",
      "memory usage: 4.7+ KB\n"
     ]
    }
   ],
   "source": [
    "df.info()"
   ]
  },
  {
   "cell_type": "code",
   "execution_count": 10,
   "id": "00ab1d7d",
   "metadata": {},
   "outputs": [
    {
     "data": {
      "text/plain": [
       "Shop_Name       0\n",
       "Cuisine         0\n",
       "Location        0\n",
       "Rating          0\n",
       "Cost_for_Two    0\n",
       "dtype: int64"
      ]
     },
     "execution_count": 10,
     "metadata": {},
     "output_type": "execute_result"
    }
   ],
   "source": [
    "df.isnull().sum()"
   ]
  },
  {
   "cell_type": "code",
   "execution_count": 11,
   "id": "9e7246f4",
   "metadata": {},
   "outputs": [
    {
     "data": {
      "text/plain": [
       "array(['Kanti Sweets', 'Mumbai Tiffin', 'Sri Krishna sagar', 'Al Daaz',\n",
       "       'Beijing Bites', 'Kitchens of Punjab',\n",
       "       '99 VARIETY DOSA AND PAV BHAJI- Malli Mane Food Court',\n",
       "       \"La Pino'z Pizza\", 'Hotel Manu', 'Yumlane Pizza',\n",
       "       'Ambur Star Briyani', 'Cake Box', 'Meghana Foods', 'Momoz',\n",
       "       'A2B - Adyar Ananda Bhavan', 'Shawarma Inc',\n",
       "       'WarmOven Cake & Desserts', 'Sri Lakshmi Dhaba',\n",
       "       'Falahaar & Kota Kachori', 'Shree Khana Khazana',\n",
       "       'Just Bake - Cakes & confectioners', 'Maa Di Hatti',\n",
       "       'Hotel Godavari', 'Rolls On Wheels', 'New Udupi Grand',\n",
       "       'Swad Punjab da', 'Rice Bowl', 'High N Hungry', 'Burger King',\n",
       "       'Nandhana Palace', 'Easy Bites', 'Bengali Fun Foods',\n",
       "       'Madurai Idly Shop', 'Oottupura', 'Taco Bell',\n",
       "       'Hyderabadi Biryani Hub', 'Biriyani Zone', \"Gongura's\",\n",
       "       'Bathinda Junction', 'Leon Grill', \"Venu's Donne Biryani\",\n",
       "       'Cakewala', 'Swadista Aahar', 'Cream Stone',\n",
       "       'Svadu Pure Ghee Sweets', 'Sai Abhiruchi', 'Pizza Hut',\n",
       "       'Hyderabad Biryaani House', 'China Pearl', \"Balaji's Veg\",\n",
       "       'Onesta', 'Donne Biryani Mandi', 'FreshMenu',\n",
       "       'Donne Biryani House', 'Pipabu', 'Sharmas punjabi restaurant',\n",
       "       'KFC', 'Donne Biriyani House', \"Nanda's\", 'Sagar fast food',\n",
       "       'calicut cafe restaurant', 'Cake Garden', 'Biryanis and more',\n",
       "       'Biryani Khazana', '800 Momos', 'World of asia', 'Ghar Ka Khana',\n",
       "       'Thalassery Restaurant', 'KANNUR FOOD POINT', 'KANNOOR RESTAURANT',\n",
       "       'Fattoush', 'Nizams Biryani', 'Nagarjuna', 'Punjabi Rasoi',\n",
       "       'CRAVY WINGS - The American Diner', 'Barista',\n",
       "       'BIRIYANI TASTE MASTH(BTM)', 'Khichdi Experiment',\n",
       "       'Tandoori Merchant', 'Chinese Bae', 'Kitchens of China',\n",
       "       'Natural Ice Cream', 'Abhiruchi Hotel', 'Punjabi Swag', 'Truffles',\n",
       "       'Gyaani Da Punjabi Dhaba', 'Biriyani Bhatti', 'Khawa Karpo',\n",
       "       '99 VARIETY DOSA AND JUICE-Malli mane food court',\n",
       "       'Purani Dilli By Anand Sweets', 'XO Belgian Waffle',\n",
       "       'BIRYANI CRAFTS', 'Madeena Hotel', 'Corner House Ice Cream',\n",
       "       'NIC Natural Ice Creams', 'Just Shawarma',\n",
       "       'Mandya Gowdru Donne Biryani', 'Dindigul Thalapakatti Biriyani',\n",
       "       'Delhi Food Point', 'Mad Over Donuts', 'Village Donne Biriyani',\n",
       "       'R.B Food Point', 'Paradise Biryani', 'New Tasty Cafeteria',\n",
       "       'Junior Kuppanna', 'The Bowl Company',\n",
       "       'Hotel Savitha Family Restaurant', 'Biryani Pot', 'Bowl 99',\n",
       "       'Kritunga', 'Wok Paper Scissors', 'Savoury Restaurant',\n",
       "       'Royal Treat', 'Thali 99', \"Mani's Dum Biryani\"], dtype=object)"
      ]
     },
     "execution_count": 11,
     "metadata": {},
     "output_type": "execute_result"
    }
   ],
   "source": [
    "#Data Pre-processing and cleaning\n",
    "df['Shop_Name'].unique()"
   ]
  },
  {
   "cell_type": "code",
   "execution_count": 12,
   "id": "786d8e37",
   "metadata": {},
   "outputs": [
    {
     "data": {
      "text/plain": [
       "La Pino'z Pizza                     2\n",
       "Leon Grill                          2\n",
       "Easy Bites                          2\n",
       "Kanti Sweets                        1\n",
       "CRAVY WINGS - The American Diner    1\n",
       "                                   ..\n",
       "Hyderabadi Biryani Hub              1\n",
       "Taco Bell                           1\n",
       "Oottupura                           1\n",
       "Madurai Idly Shop                   1\n",
       "Mani's Dum Biryani                  1\n",
       "Name: Shop_Name, Length: 115, dtype: int64"
      ]
     },
     "execution_count": 12,
     "metadata": {},
     "output_type": "execute_result"
    }
   ],
   "source": [
    "df.Shop_Name.value_counts()"
   ]
  },
  {
   "cell_type": "code",
   "execution_count": 13,
   "id": "803e06e6",
   "metadata": {},
   "outputs": [
    {
     "data": {
      "text/plain": [
       "array(['4.3', '4.4', '4.1', '4.2', '3.9', '3.8', '4', '3.7', '3.6', '4.8',\n",
       "       '4.5', '4.6', '--'], dtype=object)"
      ]
     },
     "execution_count": 13,
     "metadata": {},
     "output_type": "execute_result"
    }
   ],
   "source": [
    "df.Rating.unique()"
   ]
  },
  {
   "cell_type": "code",
   "execution_count": 14,
   "id": "0d9da3d0",
   "metadata": {},
   "outputs": [
    {
     "data": {
      "text/plain": [
       "Shop_Name       object\n",
       "Cuisine         object\n",
       "Location        object\n",
       "Rating          object\n",
       "Cost_for_Two    object\n",
       "dtype: object"
      ]
     },
     "execution_count": 14,
     "metadata": {},
     "output_type": "execute_result"
    }
   ],
   "source": [
    "df.dtypes"
   ]
  },
  {
   "cell_type": "code",
   "execution_count": 15,
   "id": "cd603a5b",
   "metadata": {},
   "outputs": [],
   "source": [
    "df.Rating=df.Rating.str.replace('--','0').astype(float)"
   ]
  },
  {
   "cell_type": "code",
   "execution_count": 16,
   "id": "a372f3a4",
   "metadata": {},
   "outputs": [
    {
     "data": {
      "text/plain": [
       "array([4.3, 4.4, 4.1, 4.2, 3.9, 3.8, 4. , 3.7, 3.6, 4.8, 4.5, 4.6, 0. ])"
      ]
     },
     "execution_count": 16,
     "metadata": {},
     "output_type": "execute_result"
    }
   ],
   "source": [
    "df.Rating.unique()"
   ]
  },
  {
   "cell_type": "code",
   "execution_count": 17,
   "id": "7d01af63",
   "metadata": {},
   "outputs": [
    {
     "data": {
      "text/plain": [
       "array(['₹ 150', '₹ 400', '₹ 126', '₹ 450', '₹ 350', '₹ 200', '₹ 500',\n",
       "       '₹ 247', '₹ 550', '₹ 300', '₹ 129', '₹ 250', '₹ 268', '₹ 600',\n",
       "       '₹ 527', '₹ 130', '₹ 257', '₹ 280', '₹ 399', '₹ 220', '₹ 800',\n",
       "       '₹ 100', '₹ 178', '₹ 120', '₹ 251', '₹ 650', '₹ 132', '₹ 153',\n",
       "       '₹ 219', '₹ 193'], dtype=object)"
      ]
     },
     "execution_count": 17,
     "metadata": {},
     "output_type": "execute_result"
    }
   ],
   "source": [
    "df.Cost_for_Two.unique()"
   ]
  },
  {
   "cell_type": "code",
   "execution_count": 18,
   "id": "d6445d98",
   "metadata": {},
   "outputs": [
    {
     "data": {
      "text/plain": [
       "array(['₹ 150', '₹ 400', '₹ 126', '₹ 450', '₹ 350', '₹ 200', '₹ 500',\n",
       "       '₹ 247', '₹ 550', '₹ 300', '₹ 129', '₹ 250', '₹ 268', '₹ 600',\n",
       "       '₹ 527', '₹ 130', '₹ 257', '₹ 280', '₹ 399', '₹ 220', '₹ 800',\n",
       "       '₹ 100', '₹ 178', '₹ 120', '₹ 251', '₹ 650', '₹ 132', '₹ 153',\n",
       "       '₹ 219', '₹ 193'], dtype=object)"
      ]
     },
     "execution_count": 18,
     "metadata": {},
     "output_type": "execute_result"
    }
   ],
   "source": [
    "a=df.Cost_for_Two\n",
    "a.unique()"
   ]
  },
  {
   "cell_type": "code",
   "execution_count": 19,
   "id": "53f2fbe2",
   "metadata": {},
   "outputs": [],
   "source": [
    "obj=lambda x:x[2:]"
   ]
  },
  {
   "cell_type": "code",
   "execution_count": 20,
   "id": "61e738ad",
   "metadata": {},
   "outputs": [
    {
     "data": {
      "text/plain": [
       "0      150\n",
       "1      400\n",
       "2      126\n",
       "3      400\n",
       "4      450\n",
       "      ... \n",
       "113    219\n",
       "114    600\n",
       "115    193\n",
       "116    200\n",
       "117    400\n",
       "Name: Cost_for_Two, Length: 118, dtype: object"
      ]
     },
     "execution_count": 20,
     "metadata": {},
     "output_type": "execute_result"
    }
   ],
   "source": [
    "a=a.apply(obj)\n",
    "\n",
    "a"
   ]
  },
  {
   "cell_type": "code",
   "execution_count": 21,
   "id": "16981f89",
   "metadata": {},
   "outputs": [
    {
     "data": {
      "text/plain": [
       "0      150\n",
       "1      400\n",
       "2      126\n",
       "3      400\n",
       "4      450\n",
       "      ... \n",
       "113    219\n",
       "114    600\n",
       "115    193\n",
       "116    200\n",
       "117    400\n",
       "Name: Cost_for_Two, Length: 118, dtype: int32"
      ]
     },
     "execution_count": 21,
     "metadata": {},
     "output_type": "execute_result"
    }
   ],
   "source": [
    "a=a.astype(int)\n",
    "a"
   ]
  },
  {
   "cell_type": "code",
   "execution_count": 22,
   "id": "0c1612dc",
   "metadata": {},
   "outputs": [
    {
     "data": {
      "text/plain": [
       "0      150\n",
       "1      400\n",
       "2      126\n",
       "3      400\n",
       "4      450\n",
       "      ... \n",
       "113    219\n",
       "114    600\n",
       "115    193\n",
       "116    200\n",
       "117    400\n",
       "Name: Cost_for_Two, Length: 118, dtype: int32"
      ]
     },
     "execution_count": 22,
     "metadata": {},
     "output_type": "execute_result"
    }
   ],
   "source": [
    "df.Cost_for_Two=a\n",
    "df.Cost_for_Two"
   ]
  },
  {
   "cell_type": "code",
   "execution_count": 23,
   "id": "111efcd4",
   "metadata": {},
   "outputs": [
    {
     "name": "stdout",
     "output_type": "stream",
     "text": [
      "<class 'pandas.core.frame.DataFrame'>\n",
      "RangeIndex: 118 entries, 0 to 117\n",
      "Data columns (total 5 columns):\n",
      " #   Column        Non-Null Count  Dtype  \n",
      "---  ------        --------------  -----  \n",
      " 0   Shop_Name     118 non-null    object \n",
      " 1   Cuisine       118 non-null    object \n",
      " 2   Location      118 non-null    object \n",
      " 3   Rating        118 non-null    float64\n",
      " 4   Cost_for_Two  118 non-null    int32  \n",
      "dtypes: float64(1), int32(1), object(3)\n",
      "memory usage: 4.3+ KB\n"
     ]
    }
   ],
   "source": [
    "df.info()"
   ]
  },
  {
   "cell_type": "code",
   "execution_count": 24,
   "id": "86e9f349",
   "metadata": {},
   "outputs": [
    {
     "data": {
      "text/html": [
       "<div>\n",
       "<style scoped>\n",
       "    .dataframe tbody tr th:only-of-type {\n",
       "        vertical-align: middle;\n",
       "    }\n",
       "\n",
       "    .dataframe tbody tr th {\n",
       "        vertical-align: top;\n",
       "    }\n",
       "\n",
       "    .dataframe thead th {\n",
       "        text-align: right;\n",
       "    }\n",
       "</style>\n",
       "<table border=\"1\" class=\"dataframe\">\n",
       "  <thead>\n",
       "    <tr style=\"text-align: right;\">\n",
       "      <th></th>\n",
       "      <th>Rating</th>\n",
       "      <th>Cost_for_Two</th>\n",
       "    </tr>\n",
       "  </thead>\n",
       "  <tbody>\n",
       "    <tr>\n",
       "      <th>count</th>\n",
       "      <td>118.000000</td>\n",
       "      <td>118.000000</td>\n",
       "    </tr>\n",
       "    <tr>\n",
       "      <th>mean</th>\n",
       "      <td>4.061864</td>\n",
       "      <td>321.008475</td>\n",
       "    </tr>\n",
       "    <tr>\n",
       "      <th>std</th>\n",
       "      <td>0.430845</td>\n",
       "      <td>137.286804</td>\n",
       "    </tr>\n",
       "    <tr>\n",
       "      <th>min</th>\n",
       "      <td>0.000000</td>\n",
       "      <td>100.000000</td>\n",
       "    </tr>\n",
       "    <tr>\n",
       "      <th>25%</th>\n",
       "      <td>4.000000</td>\n",
       "      <td>204.750000</td>\n",
       "    </tr>\n",
       "    <tr>\n",
       "      <th>50%</th>\n",
       "      <td>4.100000</td>\n",
       "      <td>300.000000</td>\n",
       "    </tr>\n",
       "    <tr>\n",
       "      <th>75%</th>\n",
       "      <td>4.300000</td>\n",
       "      <td>400.000000</td>\n",
       "    </tr>\n",
       "    <tr>\n",
       "      <th>max</th>\n",
       "      <td>4.800000</td>\n",
       "      <td>800.000000</td>\n",
       "    </tr>\n",
       "  </tbody>\n",
       "</table>\n",
       "</div>"
      ],
      "text/plain": [
       "           Rating  Cost_for_Two\n",
       "count  118.000000    118.000000\n",
       "mean     4.061864    321.008475\n",
       "std      0.430845    137.286804\n",
       "min      0.000000    100.000000\n",
       "25%      4.000000    204.750000\n",
       "50%      4.100000    300.000000\n",
       "75%      4.300000    400.000000\n",
       "max      4.800000    800.000000"
      ]
     },
     "execution_count": 24,
     "metadata": {},
     "output_type": "execute_result"
    }
   ],
   "source": [
    "df.describe()"
   ]
  },
  {
   "cell_type": "code",
   "execution_count": 25,
   "id": "769c5d30",
   "metadata": {},
   "outputs": [],
   "source": [
    "#Observations:\n",
    "#1. The Mean or average rating is 4.06 which shows that is good for customers.\n",
    "#2. The average cost for two people is Rs.321\n",
    "#3. The maximum rating and maximum cost for 2 people is4.8 and 800 respectively."
   ]
  },
  {
   "cell_type": "code",
   "execution_count": 26,
   "id": "4a34ebcf",
   "metadata": {},
   "outputs": [],
   "source": [
    "#Shops that have minimum cost and maximum rating."
   ]
  },
  {
   "cell_type": "code",
   "execution_count": 27,
   "id": "805d4b6c",
   "metadata": {},
   "outputs": [
    {
     "data": {
      "text/html": [
       "<div>\n",
       "<style scoped>\n",
       "    .dataframe tbody tr th:only-of-type {\n",
       "        vertical-align: middle;\n",
       "    }\n",
       "\n",
       "    .dataframe tbody tr th {\n",
       "        vertical-align: top;\n",
       "    }\n",
       "\n",
       "    .dataframe thead th {\n",
       "        text-align: right;\n",
       "    }\n",
       "</style>\n",
       "<table border=\"1\" class=\"dataframe\">\n",
       "  <thead>\n",
       "    <tr style=\"text-align: right;\">\n",
       "      <th></th>\n",
       "      <th>Shop_Name</th>\n",
       "      <th>Cuisine</th>\n",
       "      <th>Location</th>\n",
       "      <th>Rating</th>\n",
       "      <th>Cost_for_Two</th>\n",
       "    </tr>\n",
       "  </thead>\n",
       "  <tbody>\n",
       "    <tr>\n",
       "      <th>78</th>\n",
       "      <td>Khichdi Experiment</td>\n",
       "      <td>Home Food, Healthy Food, Indian</td>\n",
       "      <td>Koramangala, Koramangala</td>\n",
       "      <td>4.8</td>\n",
       "      <td>200</td>\n",
       "    </tr>\n",
       "    <tr>\n",
       "      <th>94</th>\n",
       "      <td>Corner House Ice Cream</td>\n",
       "      <td>Ice Cream, Desserts</td>\n",
       "      <td>7th Block, Koramangala</td>\n",
       "      <td>4.6</td>\n",
       "      <td>250</td>\n",
       "    </tr>\n",
       "    <tr>\n",
       "      <th>82</th>\n",
       "      <td>Natural Ice Cream</td>\n",
       "      <td>Ice Cream</td>\n",
       "      <td>Near Wipro Park Signal, Koramangala</td>\n",
       "      <td>4.6</td>\n",
       "      <td>150</td>\n",
       "    </tr>\n",
       "    <tr>\n",
       "      <th>80</th>\n",
       "      <td>Chinese Bae</td>\n",
       "      <td>Chinese, Thai</td>\n",
       "      <td>BTM, BTM</td>\n",
       "      <td>4.5</td>\n",
       "      <td>450</td>\n",
       "    </tr>\n",
       "    <tr>\n",
       "      <th>3</th>\n",
       "      <td>Al Daaz</td>\n",
       "      <td>American, Arabian, Chinese, Desserts, Fast Foo...</td>\n",
       "      <td>HSR, HSR</td>\n",
       "      <td>4.4</td>\n",
       "      <td>400</td>\n",
       "    </tr>\n",
       "  </tbody>\n",
       "</table>\n",
       "</div>"
      ],
      "text/plain": [
       "                 Shop_Name                                            Cuisine  \\\n",
       "78      Khichdi Experiment                    Home Food, Healthy Food, Indian   \n",
       "94  Corner House Ice Cream                                Ice Cream, Desserts   \n",
       "82       Natural Ice Cream                                          Ice Cream   \n",
       "80             Chinese Bae                                      Chinese, Thai   \n",
       "3                  Al Daaz  American, Arabian, Chinese, Desserts, Fast Foo...   \n",
       "\n",
       "                               Location  Rating  Cost_for_Two  \n",
       "78             Koramangala, Koramangala     4.8           200  \n",
       "94               7th Block, Koramangala     4.6           250  \n",
       "82  Near Wipro Park Signal, Koramangala     4.6           150  \n",
       "80                             BTM, BTM     4.5           450  \n",
       "3                              HSR, HSR     4.4           400  "
      ]
     },
     "execution_count": 27,
     "metadata": {},
     "output_type": "execute_result"
    }
   ],
   "source": [
    "df.sort_values(by='Rating', ascending=False).head()"
   ]
  },
  {
   "cell_type": "code",
   "execution_count": 28,
   "id": "f9d29f2b",
   "metadata": {},
   "outputs": [
    {
     "data": {
      "text/html": [
       "<div>\n",
       "<style scoped>\n",
       "    .dataframe tbody tr th:only-of-type {\n",
       "        vertical-align: middle;\n",
       "    }\n",
       "\n",
       "    .dataframe tbody tr th {\n",
       "        vertical-align: top;\n",
       "    }\n",
       "\n",
       "    .dataframe thead th {\n",
       "        text-align: right;\n",
       "    }\n",
       "</style>\n",
       "<table border=\"1\" class=\"dataframe\">\n",
       "  <thead>\n",
       "    <tr style=\"text-align: right;\">\n",
       "      <th></th>\n",
       "      <th>Shop_Name</th>\n",
       "      <th>Cuisine</th>\n",
       "      <th>Location</th>\n",
       "      <th>Rating</th>\n",
       "      <th>Cost_for_Two</th>\n",
       "    </tr>\n",
       "  </thead>\n",
       "  <tbody>\n",
       "    <tr>\n",
       "      <th>79</th>\n",
       "      <td>Tandoori Merchant</td>\n",
       "      <td>Andhra, Biryani, Chinese, Desserts, Fast Food,...</td>\n",
       "      <td>4th Cross, BTM</td>\n",
       "      <td>4.2</td>\n",
       "      <td>100</td>\n",
       "    </tr>\n",
       "    <tr>\n",
       "      <th>89</th>\n",
       "      <td>99 VARIETY DOSA AND JUICE-Malli mane food court</td>\n",
       "      <td>Fast Food, Juices, North Indian</td>\n",
       "      <td>Koramangala 1st block, Koramangala</td>\n",
       "      <td>4.1</td>\n",
       "      <td>100</td>\n",
       "    </tr>\n",
       "    <tr>\n",
       "      <th>95</th>\n",
       "      <td>NIC Natural Ice Creams</td>\n",
       "      <td>Ice Cream, Desserts</td>\n",
       "      <td>Koramangla, Koramangala</td>\n",
       "      <td>4.2</td>\n",
       "      <td>120</td>\n",
       "    </tr>\n",
       "    <tr>\n",
       "      <th>2</th>\n",
       "      <td>Sri Krishna sagar</td>\n",
       "      <td>South Indian, North Indian, Fast Food, Beverag...</td>\n",
       "      <td>6th Block, Koramangala</td>\n",
       "      <td>4.1</td>\n",
       "      <td>126</td>\n",
       "    </tr>\n",
       "    <tr>\n",
       "      <th>21</th>\n",
       "      <td>Maa Di Hatti</td>\n",
       "      <td>Chinese, Healthy Food, North Indian</td>\n",
       "      <td>Jakkasandra Extn, Koramangala</td>\n",
       "      <td>4.0</td>\n",
       "      <td>129</td>\n",
       "    </tr>\n",
       "  </tbody>\n",
       "</table>\n",
       "</div>"
      ],
      "text/plain": [
       "                                          Shop_Name  \\\n",
       "79                                Tandoori Merchant   \n",
       "89  99 VARIETY DOSA AND JUICE-Malli mane food court   \n",
       "95                           NIC Natural Ice Creams   \n",
       "2                                 Sri Krishna sagar   \n",
       "21                                     Maa Di Hatti   \n",
       "\n",
       "                                              Cuisine  \\\n",
       "79  Andhra, Biryani, Chinese, Desserts, Fast Food,...   \n",
       "89                    Fast Food, Juices, North Indian   \n",
       "95                                Ice Cream, Desserts   \n",
       "2   South Indian, North Indian, Fast Food, Beverag...   \n",
       "21                Chinese, Healthy Food, North Indian   \n",
       "\n",
       "                              Location  Rating  Cost_for_Two  \n",
       "79                      4th Cross, BTM     4.2           100  \n",
       "89  Koramangala 1st block, Koramangala     4.1           100  \n",
       "95             Koramangla, Koramangala     4.2           120  \n",
       "2               6th Block, Koramangala     4.1           126  \n",
       "21       Jakkasandra Extn, Koramangala     4.0           129  "
      ]
     },
     "execution_count": 28,
     "metadata": {},
     "output_type": "execute_result"
    }
   ],
   "source": [
    "df.sort_values(by='Cost_for_Two').head()"
   ]
  },
  {
   "cell_type": "code",
   "execution_count": 29,
   "id": "15170032",
   "metadata": {},
   "outputs": [],
   "source": [
    "#Observations:\n",
    "#1. Most loved food is from Khichdi experiment with highest rating of 4.8\n",
    "#2. The mimimum cost for 2 people is from Tandoori Merchant"
   ]
  },
  {
   "cell_type": "code",
   "execution_count": 30,
   "id": "a7819169",
   "metadata": {},
   "outputs": [
    {
     "data": {
      "text/plain": [
       "count    118.000000\n",
       "mean       4.061864\n",
       "std        0.430845\n",
       "min        0.000000\n",
       "25%        4.000000\n",
       "50%        4.100000\n",
       "75%        4.300000\n",
       "max        4.800000\n",
       "Name: Rating, dtype: float64"
      ]
     },
     "execution_count": 30,
     "metadata": {},
     "output_type": "execute_result"
    }
   ],
   "source": [
    "df.Rating.describe()"
   ]
  },
  {
   "cell_type": "code",
   "execution_count": 31,
   "id": "d310eeca",
   "metadata": {},
   "outputs": [
    {
     "data": {
      "text/plain": [
       "98     0.0\n",
       "103    3.6\n",
       "71     3.6\n",
       "17     3.7\n",
       "84     3.7\n",
       "      ... \n",
       "1      4.4\n",
       "80     4.5\n",
       "94     4.6\n",
       "82     4.6\n",
       "78     4.8\n",
       "Name: Rating, Length: 118, dtype: float64"
      ]
     },
     "execution_count": 31,
     "metadata": {},
     "output_type": "execute_result"
    }
   ],
   "source": [
    "df[\"Rating\"].sort_values(ascending=True)"
   ]
  },
  {
   "cell_type": "code",
   "execution_count": 33,
   "id": "4c3ac70e",
   "metadata": {},
   "outputs": [
    {
     "data": {
      "text/plain": [
       "array(['Koramangala, Koramangala', 'Sector 5, HSR',\n",
       "       '6th Block, Koramangala', 'HSR, HSR', '5th Block, Koramangala',\n",
       "       'Koramangala 4th  Block, Koramangala', 'BTM 2nd Stage, BTM',\n",
       "       'BTM, BTM', '9th Main road, Koramangala', 'outer ring road, BTM',\n",
       "       '7th Block, Koramangala', '1st MAin, Koramangala',\n",
       "       'Bommanahalli, BTM', '6th block, Koramangala', 'Sector 4, HSR',\n",
       "       'BTM 1st stage, BTM', 'Jakkasandra Extn, Koramangala',\n",
       "       'Marutinagar Main Road, BTM', '1st Block, Koramangala',\n",
       "       '4th Cross, BTM', 'koramangala, Koramangala', 'BTM 2nd stage, BTM',\n",
       "       '3rd main, BTM', 'HSR 1st sector, HSR', 'Sector 7, HSR',\n",
       "       '3rd Sector, HSR', 'Chocolate Factory Road, BTM',\n",
       "       '16th Main Road, 2nd Stage, BTM', '1st Stage, BTM',\n",
       "       'Hosur Main Road, Koramangala',\n",
       "       '1st Cross Road, 5th Block, Near Jyothi Nivas College, Koramangala',\n",
       "       'Mico Layout, BTM', '4th Cross, Koramangala',\n",
       "       '4th Block, Koramangala', 'Intermediate Ring Road, Koramangala',\n",
       "       '3rd sector, HSR', '8TH BLOCK, Koramangala',\n",
       "       '4th b cross, Koramangala', 'SG palaya, BTM',\n",
       "       \"Venkatapura Main Rd, Teacher's Colony, Jakkasandra, HSR\",\n",
       "       'KHB Colony, Koramangala', 'Sector 3, HSR',\n",
       "       'Bannerghatta Road, Jayanagar',\n",
       "       '80 Feet Peripheral Road, Koramangala', 'Btm, BTM',\n",
       "       'Near Wipro Park Signal, Koramangala', '16th Main Road, BTM',\n",
       "       '2nd Stage, BTM', 'Kuvempu Nagar, Stage 2, BTM',\n",
       "       'Koramangala 1st block, Koramangala',\n",
       "       '5th Block Kormangala, Koramangala', 'Koramangla, Koramangala',\n",
       "       '5th block, Koramangala', '9th Main Rd, Sector 6, HSR Layout, HSR',\n",
       "       'Jay Bheema Nagar, BTM', 'Koramangala 6th block, Koramangala',\n",
       "       'Maruthi Nagar, BTM', 'Sector 6, HSR',\n",
       "       'Jakkasandra Village, Koramangala', '4th block, Koramangala',\n",
       "       'Madiwala Junction, BTM', 'kormangala, Koramangala',\n",
       "       'JNC Road, Koramangala', 'Madiwala, BTM',\n",
       "       '5th block Koramangala, Koramangala'], dtype=object)"
      ]
     },
     "execution_count": 33,
     "metadata": {},
     "output_type": "execute_result"
    }
   ],
   "source": [
    "L=df.Location.unique()\n",
    "L"
   ]
  },
  {
   "cell_type": "code",
   "execution_count": 34,
   "id": "f42373f9",
   "metadata": {},
   "outputs": [
    {
     "data": {
      "text/plain": [
       "[' Koramangala',\n",
       " ' HSR',\n",
       " ' Koramangala',\n",
       " ' HSR',\n",
       " ' Koramangala',\n",
       " ' Koramangala',\n",
       " ' BTM',\n",
       " ' BTM',\n",
       " ' HSR',\n",
       " ' Koramangala',\n",
       " ' BTM',\n",
       " ' Koramangala',\n",
       " ' Koramangala',\n",
       " ' Koramangala',\n",
       " ' Koramangala',\n",
       " ' Koramangala',\n",
       " ' Koramangala',\n",
       " ' BTM',\n",
       " ' Koramangala',\n",
       " ' HSR',\n",
       " ' BTM',\n",
       " ' Koramangala',\n",
       " ' BTM',\n",
       " ' Koramangala',\n",
       " ' HSR',\n",
       " ' BTM',\n",
       " ' Koramangala',\n",
       " ' BTM',\n",
       " ' Koramangala',\n",
       " ' Koramangala',\n",
       " ' Koramangala',\n",
       " ' BTM',\n",
       " ' Koramangala',\n",
       " ' BTM',\n",
       " ' Koramangala',\n",
       " ' BTM',\n",
       " ' HSR',\n",
       " ' HSR',\n",
       " ' Koramangala',\n",
       " ' HSR',\n",
       " ' BTM',\n",
       " ' HSR',\n",
       " ' BTM',\n",
       " ' Koramangala',\n",
       " ' BTM',\n",
       " ' BTM',\n",
       " ' Koramangala',\n",
       " ' Koramangala',\n",
       " ' Koramangala',\n",
       " ' BTM',\n",
       " ' Koramangala',\n",
       " ' BTM',\n",
       " ' Koramangala',\n",
       " ' Koramangala',\n",
       " ' Koramangala',\n",
       " ' Koramangala',\n",
       " ' Koramangala',\n",
       " ' HSR',\n",
       " ' HSR',\n",
       " ' Koramangala',\n",
       " ' BTM',\n",
       " ' HSR',\n",
       " ' Koramangala',\n",
       " ' Koramangala',\n",
       " ' Koramangala',\n",
       " ' BTM',\n",
       " ' BTM',\n",
       " ' Koramangala',\n",
       " ' BTM',\n",
       " ' BTM',\n",
       " ' BTM',\n",
       " ' HSR',\n",
       " ' Koramangala',\n",
       " ' HSR',\n",
       " ' Jayanagar',\n",
       " ' Koramangala',\n",
       " ' BTM',\n",
       " ' Koramangala',\n",
       " ' Koramangala',\n",
       " ' BTM',\n",
       " ' BTM',\n",
       " ' Koramangala',\n",
       " ' Koramangala',\n",
       " ' BTM',\n",
       " ' BTM',\n",
       " ' Koramangala',\n",
       " ' BTM',\n",
       " ' BTM',\n",
       " ' Koramangala',\n",
       " ' Koramangala',\n",
       " ' Koramangala',\n",
       " ' Koramangala',\n",
       " ' BTM',\n",
       " ' Koramangala',\n",
       " ' Koramangala',\n",
       " ' Koramangala',\n",
       " ' Koramangala',\n",
       " ' Koramangala',\n",
       " ' HSR',\n",
       " ' HSR',\n",
       " ' Koramangala',\n",
       " ' HSR',\n",
       " ' Koramangala',\n",
       " ' Koramangala',\n",
       " ' BTM',\n",
       " ' Koramangala',\n",
       " ' BTM',\n",
       " ' HSR',\n",
       " ' Koramangala',\n",
       " ' Koramangala',\n",
       " ' BTM',\n",
       " ' Koramangala',\n",
       " ' Koramangala',\n",
       " ' Koramangala',\n",
       " ' BTM',\n",
       " ' Koramangala',\n",
       " ' Koramangala',\n",
       " ' Koramangala']"
      ]
     },
     "execution_count": 34,
     "metadata": {},
     "output_type": "execute_result"
    }
   ],
   "source": [
    "loc=[]\n",
    "def dis():\n",
    "    for i in df.Location:\n",
    "        loc.append(i.split(\",\")[-1])\n",
    "    return loc\n",
    "l=dis()\n",
    "l"
   ]
  },
  {
   "cell_type": "code",
   "execution_count": 35,
   "id": "9012b356",
   "metadata": {},
   "outputs": [
    {
     "data": {
      "text/plain": [
       "4"
      ]
     },
     "execution_count": 35,
     "metadata": {},
     "output_type": "execute_result"
    }
   ],
   "source": [
    "a=set(l)\n",
    "len(a)"
   ]
  },
  {
   "cell_type": "code",
   "execution_count": 36,
   "id": "42791b19",
   "metadata": {},
   "outputs": [
    {
     "data": {
      "text/plain": [
       "{' BTM', ' HSR', ' Jayanagar', ' Koramangala'}"
      ]
     },
     "execution_count": 36,
     "metadata": {},
     "output_type": "execute_result"
    }
   ],
   "source": [
    "a"
   ]
  },
  {
   "cell_type": "code",
   "execution_count": 37,
   "id": "afd73588",
   "metadata": {},
   "outputs": [
    {
     "data": {
      "text/html": [
       "<div>\n",
       "<style scoped>\n",
       "    .dataframe tbody tr th:only-of-type {\n",
       "        vertical-align: middle;\n",
       "    }\n",
       "\n",
       "    .dataframe tbody tr th {\n",
       "        vertical-align: top;\n",
       "    }\n",
       "\n",
       "    .dataframe thead th {\n",
       "        text-align: right;\n",
       "    }\n",
       "</style>\n",
       "<table border=\"1\" class=\"dataframe\">\n",
       "  <thead>\n",
       "    <tr style=\"text-align: right;\">\n",
       "      <th></th>\n",
       "      <th>Shop_Name</th>\n",
       "      <th>Cuisine</th>\n",
       "      <th>Location</th>\n",
       "      <th>Rating</th>\n",
       "      <th>Cost_for_Two</th>\n",
       "      <th>Area</th>\n",
       "    </tr>\n",
       "  </thead>\n",
       "  <tbody>\n",
       "    <tr>\n",
       "      <th>0</th>\n",
       "      <td>Kanti Sweets</td>\n",
       "      <td>Sweets</td>\n",
       "      <td>Koramangala, Koramangala</td>\n",
       "      <td>4.3</td>\n",
       "      <td>150</td>\n",
       "      <td>Koramangala</td>\n",
       "    </tr>\n",
       "    <tr>\n",
       "      <th>1</th>\n",
       "      <td>Mumbai Tiffin</td>\n",
       "      <td>North Indian, Home Food, Thalis, Combo</td>\n",
       "      <td>Sector 5, HSR</td>\n",
       "      <td>4.4</td>\n",
       "      <td>400</td>\n",
       "      <td>HSR</td>\n",
       "    </tr>\n",
       "    <tr>\n",
       "      <th>2</th>\n",
       "      <td>Sri Krishna sagar</td>\n",
       "      <td>South Indian, North Indian, Fast Food, Beverag...</td>\n",
       "      <td>6th Block, Koramangala</td>\n",
       "      <td>4.1</td>\n",
       "      <td>126</td>\n",
       "      <td>Koramangala</td>\n",
       "    </tr>\n",
       "    <tr>\n",
       "      <th>3</th>\n",
       "      <td>Al Daaz</td>\n",
       "      <td>American, Arabian, Chinese, Desserts, Fast Foo...</td>\n",
       "      <td>HSR, HSR</td>\n",
       "      <td>4.4</td>\n",
       "      <td>400</td>\n",
       "      <td>HSR</td>\n",
       "    </tr>\n",
       "    <tr>\n",
       "      <th>4</th>\n",
       "      <td>Beijing Bites</td>\n",
       "      <td>Chinese, Thai</td>\n",
       "      <td>5th Block, Koramangala</td>\n",
       "      <td>4.1</td>\n",
       "      <td>450</td>\n",
       "      <td>Koramangala</td>\n",
       "    </tr>\n",
       "    <tr>\n",
       "      <th>...</th>\n",
       "      <td>...</td>\n",
       "      <td>...</td>\n",
       "      <td>...</td>\n",
       "      <td>...</td>\n",
       "      <td>...</td>\n",
       "      <td>...</td>\n",
       "    </tr>\n",
       "    <tr>\n",
       "      <th>113</th>\n",
       "      <td>Wok Paper Scissors</td>\n",
       "      <td>Pan-Asian, Chinese, Asian</td>\n",
       "      <td>JNC Road, Koramangala</td>\n",
       "      <td>3.9</td>\n",
       "      <td>219</td>\n",
       "      <td>Koramangala</td>\n",
       "    </tr>\n",
       "    <tr>\n",
       "      <th>114</th>\n",
       "      <td>Savoury Restaurant</td>\n",
       "      <td>Arabian, Middle Eastern, North Indian, Grill, ...</td>\n",
       "      <td>Madiwala, BTM</td>\n",
       "      <td>4.1</td>\n",
       "      <td>600</td>\n",
       "      <td>BTM</td>\n",
       "    </tr>\n",
       "    <tr>\n",
       "      <th>115</th>\n",
       "      <td>Royal Treat</td>\n",
       "      <td>North Indian, Chinese, Seafood, Biryani</td>\n",
       "      <td>5th block Koramangala, Koramangala</td>\n",
       "      <td>4.2</td>\n",
       "      <td>193</td>\n",
       "      <td>Koramangala</td>\n",
       "    </tr>\n",
       "    <tr>\n",
       "      <th>116</th>\n",
       "      <td>Thali 99</td>\n",
       "      <td>North Indian</td>\n",
       "      <td>Koramangala, Koramangala</td>\n",
       "      <td>4.3</td>\n",
       "      <td>200</td>\n",
       "      <td>Koramangala</td>\n",
       "    </tr>\n",
       "    <tr>\n",
       "      <th>117</th>\n",
       "      <td>Mani's Dum Biryani</td>\n",
       "      <td>Andhra, Biryani</td>\n",
       "      <td>1st Block, Koramangala</td>\n",
       "      <td>4.2</td>\n",
       "      <td>400</td>\n",
       "      <td>Koramangala</td>\n",
       "    </tr>\n",
       "  </tbody>\n",
       "</table>\n",
       "<p>118 rows × 6 columns</p>\n",
       "</div>"
      ],
      "text/plain": [
       "              Shop_Name                                            Cuisine  \\\n",
       "0          Kanti Sweets                                             Sweets   \n",
       "1         Mumbai Tiffin             North Indian, Home Food, Thalis, Combo   \n",
       "2     Sri Krishna sagar  South Indian, North Indian, Fast Food, Beverag...   \n",
       "3               Al Daaz  American, Arabian, Chinese, Desserts, Fast Foo...   \n",
       "4         Beijing Bites                                      Chinese, Thai   \n",
       "..                  ...                                                ...   \n",
       "113  Wok Paper Scissors                          Pan-Asian, Chinese, Asian   \n",
       "114  Savoury Restaurant  Arabian, Middle Eastern, North Indian, Grill, ...   \n",
       "115         Royal Treat            North Indian, Chinese, Seafood, Biryani   \n",
       "116            Thali 99                                       North Indian   \n",
       "117  Mani's Dum Biryani                                    Andhra, Biryani   \n",
       "\n",
       "                               Location  Rating  Cost_for_Two          Area  \n",
       "0              Koramangala, Koramangala     4.3           150   Koramangala  \n",
       "1                         Sector 5, HSR     4.4           400           HSR  \n",
       "2                6th Block, Koramangala     4.1           126   Koramangala  \n",
       "3                              HSR, HSR     4.4           400           HSR  \n",
       "4                5th Block, Koramangala     4.1           450   Koramangala  \n",
       "..                                  ...     ...           ...           ...  \n",
       "113               JNC Road, Koramangala     3.9           219   Koramangala  \n",
       "114                       Madiwala, BTM     4.1           600           BTM  \n",
       "115  5th block Koramangala, Koramangala     4.2           193   Koramangala  \n",
       "116            Koramangala, Koramangala     4.3           200   Koramangala  \n",
       "117              1st Block, Koramangala     4.2           400   Koramangala  \n",
       "\n",
       "[118 rows x 6 columns]"
      ]
     },
     "execution_count": 37,
     "metadata": {},
     "output_type": "execute_result"
    }
   ],
   "source": [
    "df[\"Area\"]=l\n",
    "df"
   ]
  },
  {
   "cell_type": "code",
   "execution_count": 38,
   "id": "1b629143",
   "metadata": {},
   "outputs": [
    {
     "name": "stdout",
     "output_type": "stream",
     "text": [
      "Kormangala Area\n"
     ]
    },
    {
     "data": {
      "text/html": [
       "<div>\n",
       "<style scoped>\n",
       "    .dataframe tbody tr th:only-of-type {\n",
       "        vertical-align: middle;\n",
       "    }\n",
       "\n",
       "    .dataframe tbody tr th {\n",
       "        vertical-align: top;\n",
       "    }\n",
       "\n",
       "    .dataframe thead th {\n",
       "        text-align: right;\n",
       "    }\n",
       "</style>\n",
       "<table border=\"1\" class=\"dataframe\">\n",
       "  <thead>\n",
       "    <tr style=\"text-align: right;\">\n",
       "      <th></th>\n",
       "      <th>Shop_Name</th>\n",
       "      <th>Cuisine</th>\n",
       "      <th>Location</th>\n",
       "      <th>Rating</th>\n",
       "      <th>Cost_for_Two</th>\n",
       "      <th>Area</th>\n",
       "    </tr>\n",
       "  </thead>\n",
       "  <tbody>\n",
       "    <tr>\n",
       "      <th>0</th>\n",
       "      <td>Kanti Sweets</td>\n",
       "      <td>Sweets</td>\n",
       "      <td>Koramangala, Koramangala</td>\n",
       "      <td>4.3</td>\n",
       "      <td>150</td>\n",
       "      <td>Koramangala</td>\n",
       "    </tr>\n",
       "    <tr>\n",
       "      <th>2</th>\n",
       "      <td>Sri Krishna sagar</td>\n",
       "      <td>South Indian, North Indian, Fast Food, Beverag...</td>\n",
       "      <td>6th Block, Koramangala</td>\n",
       "      <td>4.1</td>\n",
       "      <td>126</td>\n",
       "      <td>Koramangala</td>\n",
       "    </tr>\n",
       "    <tr>\n",
       "      <th>4</th>\n",
       "      <td>Beijing Bites</td>\n",
       "      <td>Chinese, Thai</td>\n",
       "      <td>5th Block, Koramangala</td>\n",
       "      <td>4.1</td>\n",
       "      <td>450</td>\n",
       "      <td>Koramangala</td>\n",
       "    </tr>\n",
       "    <tr>\n",
       "      <th>5</th>\n",
       "      <td>Kitchens of Punjab</td>\n",
       "      <td>North Indian</td>\n",
       "      <td>Koramangala 4th  Block, Koramangala</td>\n",
       "      <td>4.2</td>\n",
       "      <td>350</td>\n",
       "      <td>Koramangala</td>\n",
       "    </tr>\n",
       "    <tr>\n",
       "      <th>9</th>\n",
       "      <td>Yumlane Pizza</td>\n",
       "      <td>Pizzas, Italian, Mexican</td>\n",
       "      <td>9th Main road, Koramangala</td>\n",
       "      <td>3.8</td>\n",
       "      <td>150</td>\n",
       "      <td>Koramangala</td>\n",
       "    </tr>\n",
       "    <tr>\n",
       "      <th>...</th>\n",
       "      <td>...</td>\n",
       "      <td>...</td>\n",
       "      <td>...</td>\n",
       "      <td>...</td>\n",
       "      <td>...</td>\n",
       "      <td>...</td>\n",
       "    </tr>\n",
       "    <tr>\n",
       "      <th>112</th>\n",
       "      <td>Kritunga</td>\n",
       "      <td>Andhra, Biryani</td>\n",
       "      <td>5th Block, Koramangala</td>\n",
       "      <td>3.9</td>\n",
       "      <td>500</td>\n",
       "      <td>Koramangala</td>\n",
       "    </tr>\n",
       "    <tr>\n",
       "      <th>113</th>\n",
       "      <td>Wok Paper Scissors</td>\n",
       "      <td>Pan-Asian, Chinese, Asian</td>\n",
       "      <td>JNC Road, Koramangala</td>\n",
       "      <td>3.9</td>\n",
       "      <td>219</td>\n",
       "      <td>Koramangala</td>\n",
       "    </tr>\n",
       "    <tr>\n",
       "      <th>115</th>\n",
       "      <td>Royal Treat</td>\n",
       "      <td>North Indian, Chinese, Seafood, Biryani</td>\n",
       "      <td>5th block Koramangala, Koramangala</td>\n",
       "      <td>4.2</td>\n",
       "      <td>193</td>\n",
       "      <td>Koramangala</td>\n",
       "    </tr>\n",
       "    <tr>\n",
       "      <th>116</th>\n",
       "      <td>Thali 99</td>\n",
       "      <td>North Indian</td>\n",
       "      <td>Koramangala, Koramangala</td>\n",
       "      <td>4.3</td>\n",
       "      <td>200</td>\n",
       "      <td>Koramangala</td>\n",
       "    </tr>\n",
       "    <tr>\n",
       "      <th>117</th>\n",
       "      <td>Mani's Dum Biryani</td>\n",
       "      <td>Andhra, Biryani</td>\n",
       "      <td>1st Block, Koramangala</td>\n",
       "      <td>4.2</td>\n",
       "      <td>400</td>\n",
       "      <td>Koramangala</td>\n",
       "    </tr>\n",
       "  </tbody>\n",
       "</table>\n",
       "<p>64 rows × 6 columns</p>\n",
       "</div>"
      ],
      "text/plain": [
       "              Shop_Name                                            Cuisine  \\\n",
       "0          Kanti Sweets                                             Sweets   \n",
       "2     Sri Krishna sagar  South Indian, North Indian, Fast Food, Beverag...   \n",
       "4         Beijing Bites                                      Chinese, Thai   \n",
       "5    Kitchens of Punjab                                       North Indian   \n",
       "9         Yumlane Pizza                           Pizzas, Italian, Mexican   \n",
       "..                  ...                                                ...   \n",
       "112            Kritunga                                    Andhra, Biryani   \n",
       "113  Wok Paper Scissors                          Pan-Asian, Chinese, Asian   \n",
       "115         Royal Treat            North Indian, Chinese, Seafood, Biryani   \n",
       "116            Thali 99                                       North Indian   \n",
       "117  Mani's Dum Biryani                                    Andhra, Biryani   \n",
       "\n",
       "                                Location  Rating  Cost_for_Two          Area  \n",
       "0               Koramangala, Koramangala     4.3           150   Koramangala  \n",
       "2                 6th Block, Koramangala     4.1           126   Koramangala  \n",
       "4                 5th Block, Koramangala     4.1           450   Koramangala  \n",
       "5    Koramangala 4th  Block, Koramangala     4.2           350   Koramangala  \n",
       "9             9th Main road, Koramangala     3.8           150   Koramangala  \n",
       "..                                   ...     ...           ...           ...  \n",
       "112               5th Block, Koramangala     3.9           500   Koramangala  \n",
       "113                JNC Road, Koramangala     3.9           219   Koramangala  \n",
       "115   5th block Koramangala, Koramangala     4.2           193   Koramangala  \n",
       "116             Koramangala, Koramangala     4.3           200   Koramangala  \n",
       "117               1st Block, Koramangala     4.2           400   Koramangala  \n",
       "\n",
       "[64 rows x 6 columns]"
      ]
     },
     "execution_count": 38,
     "metadata": {},
     "output_type": "execute_result"
    }
   ],
   "source": [
    "print(\"Kormangala Area\")\n",
    "Koramangala = df[df['Area'] == ' Koramangala']\n",
    "Koramangala"
   ]
  },
  {
   "cell_type": "code",
   "execution_count": 39,
   "id": "6cf808ca",
   "metadata": {},
   "outputs": [
    {
     "data": {
      "text/html": [
       "<div>\n",
       "<style scoped>\n",
       "    .dataframe tbody tr th:only-of-type {\n",
       "        vertical-align: middle;\n",
       "    }\n",
       "\n",
       "    .dataframe tbody tr th {\n",
       "        vertical-align: top;\n",
       "    }\n",
       "\n",
       "    .dataframe thead th {\n",
       "        text-align: right;\n",
       "    }\n",
       "</style>\n",
       "<table border=\"1\" class=\"dataframe\">\n",
       "  <thead>\n",
       "    <tr style=\"text-align: right;\">\n",
       "      <th></th>\n",
       "      <th>Rating</th>\n",
       "      <th>Cost_for_Two</th>\n",
       "    </tr>\n",
       "  </thead>\n",
       "  <tbody>\n",
       "    <tr>\n",
       "      <th>count</th>\n",
       "      <td>64.000000</td>\n",
       "      <td>64.000000</td>\n",
       "    </tr>\n",
       "    <tr>\n",
       "      <th>mean</th>\n",
       "      <td>4.126563</td>\n",
       "      <td>297.828125</td>\n",
       "    </tr>\n",
       "    <tr>\n",
       "      <th>std</th>\n",
       "      <td>0.217666</td>\n",
       "      <td>134.319632</td>\n",
       "    </tr>\n",
       "    <tr>\n",
       "      <th>min</th>\n",
       "      <td>3.600000</td>\n",
       "      <td>100.000000</td>\n",
       "    </tr>\n",
       "    <tr>\n",
       "      <th>25%</th>\n",
       "      <td>4.000000</td>\n",
       "      <td>200.000000</td>\n",
       "    </tr>\n",
       "    <tr>\n",
       "      <th>50%</th>\n",
       "      <td>4.100000</td>\n",
       "      <td>254.000000</td>\n",
       "    </tr>\n",
       "    <tr>\n",
       "      <th>75%</th>\n",
       "      <td>4.300000</td>\n",
       "      <td>399.250000</td>\n",
       "    </tr>\n",
       "    <tr>\n",
       "      <th>max</th>\n",
       "      <td>4.800000</td>\n",
       "      <td>600.000000</td>\n",
       "    </tr>\n",
       "  </tbody>\n",
       "</table>\n",
       "</div>"
      ],
      "text/plain": [
       "          Rating  Cost_for_Two\n",
       "count  64.000000     64.000000\n",
       "mean    4.126563    297.828125\n",
       "std     0.217666    134.319632\n",
       "min     3.600000    100.000000\n",
       "25%     4.000000    200.000000\n",
       "50%     4.100000    254.000000\n",
       "75%     4.300000    399.250000\n",
       "max     4.800000    600.000000"
      ]
     },
     "execution_count": 39,
     "metadata": {},
     "output_type": "execute_result"
    }
   ],
   "source": [
    "Koramangala.describe()"
   ]
  },
  {
   "cell_type": "code",
   "execution_count": 52,
   "id": "600eb493",
   "metadata": {},
   "outputs": [
    {
     "data": {
      "text/plain": [
       "<AxesSubplot:xlabel='Shop_Name', ylabel='Rating'>"
      ]
     },
     "execution_count": 52,
     "metadata": {},
     "output_type": "execute_result"
    },
    {
     "data": {
      "image/png": "[encoded data removed]",
      "text/plain": [
       "<Figure size 720x720 with 1 Axes>"
      ]
     },
     "metadata": {
      "needs_background": "light"
     },
     "output_type": "display_data"
    }
   ],
   "source": [
    "plt.figure(figsize=(10,10))\n",
    "plt.xticks(rotation=90)\n",
    "sns.barplot(x=Koramangala['Shop_Name'],y=Koramangala.Rating)"
   ]
  },
  {
   "cell_type": "code",
   "execution_count": 45,
   "id": "edc089c0",
   "metadata": {},
   "outputs": [
    {
     "data": {
      "text/plain": [
       "<AxesSubplot:xlabel='Cost_for_Two', ylabel='Count'>"
      ]
     },
     "execution_count": 45,
     "metadata": {},
     "output_type": "execute_result"
    },
    {
     "data": {
      "image/png": "[encoded data removed]",
      "text/plain": [
       "<Figure size 432x288 with 1 Axes>"
      ]
     },
     "metadata": {
      "needs_background": "light"
     },
     "output_type": "display_data"
    }
   ],
   "source": [
    "sns.histplot(Koramangala['Cost_for_Two'],bins=15)"
   ]
  },
  {
   "cell_type": "code",
   "execution_count": 46,
   "id": "21cb93d7",
   "metadata": {},
   "outputs": [
    {
     "data": {
      "text/plain": [
       "<AxesSubplot:xlabel='Rating', ylabel='Count'>"
      ]
     },
     "execution_count": 46,
     "metadata": {},
     "output_type": "execute_result"
    },
    {
     "data": {
      "image/png": "[encoded data removed]",
      "text/plain": [
       "<Figure size 432x288 with 1 Axes>"
      ]
     },
     "metadata": {
      "needs_background": "light"
     },
     "output_type": "display_data"
    }
   ],
   "source": [
    "sns.histplot(Koramangala['Rating'],bins=10)"
   ]
  },
  {
   "cell_type": "code",
   "execution_count": 47,
   "id": "b6b67611",
   "metadata": {},
   "outputs": [
    {
     "name": "stdout",
     "output_type": "stream",
     "text": [
      "Jaynagar Area\n"
     ]
    },
    {
     "data": {
      "text/html": [
       "<div>\n",
       "<style scoped>\n",
       "    .dataframe tbody tr th:only-of-type {\n",
       "        vertical-align: middle;\n",
       "    }\n",
       "\n",
       "    .dataframe tbody tr th {\n",
       "        vertical-align: top;\n",
       "    }\n",
       "\n",
       "    .dataframe thead th {\n",
       "        text-align: right;\n",
       "    }\n",
       "</style>\n",
       "<table border=\"1\" class=\"dataframe\">\n",
       "  <thead>\n",
       "    <tr style=\"text-align: right;\">\n",
       "      <th></th>\n",
       "      <th>Shop_Name</th>\n",
       "      <th>Cuisine</th>\n",
       "      <th>Location</th>\n",
       "      <th>Rating</th>\n",
       "      <th>Cost_for_Two</th>\n",
       "      <th>Area</th>\n",
       "    </tr>\n",
       "  </thead>\n",
       "  <tbody>\n",
       "    <tr>\n",
       "      <th>74</th>\n",
       "      <td>CRAVY WINGS - The American Diner</td>\n",
       "      <td>American, Fast Food</td>\n",
       "      <td>Bannerghatta Road, Jayanagar</td>\n",
       "      <td>4.3</td>\n",
       "      <td>300</td>\n",
       "      <td>Jayanagar</td>\n",
       "    </tr>\n",
       "  </tbody>\n",
       "</table>\n",
       "</div>"
      ],
      "text/plain": [
       "                           Shop_Name              Cuisine  \\\n",
       "74  CRAVY WINGS - The American Diner  American, Fast Food   \n",
       "\n",
       "                        Location  Rating  Cost_for_Two        Area  \n",
       "74  Bannerghatta Road, Jayanagar     4.3           300   Jayanagar  "
      ]
     },
     "execution_count": 47,
     "metadata": {},
     "output_type": "execute_result"
    }
   ],
   "source": [
    "print('Jaynagar Area')\n",
    "Jayanagar = df[df['Area'] == ' Jayanagar']\n",
    "Jayanagar"
   ]
  },
  {
   "cell_type": "code",
   "execution_count": 48,
   "id": "310c02fb",
   "metadata": {},
   "outputs": [
    {
     "name": "stdout",
     "output_type": "stream",
     "text": [
      "HSR Area\n"
     ]
    },
    {
     "data": {
      "text/html": [
       "<div>\n",
       "<style scoped>\n",
       "    .dataframe tbody tr th:only-of-type {\n",
       "        vertical-align: middle;\n",
       "    }\n",
       "\n",
       "    .dataframe tbody tr th {\n",
       "        vertical-align: top;\n",
       "    }\n",
       "\n",
       "    .dataframe thead th {\n",
       "        text-align: right;\n",
       "    }\n",
       "</style>\n",
       "<table border=\"1\" class=\"dataframe\">\n",
       "  <thead>\n",
       "    <tr style=\"text-align: right;\">\n",
       "      <th></th>\n",
       "      <th>Shop_Name</th>\n",
       "      <th>Cuisine</th>\n",
       "      <th>Location</th>\n",
       "      <th>Rating</th>\n",
       "      <th>Cost_for_Two</th>\n",
       "      <th>Area</th>\n",
       "    </tr>\n",
       "  </thead>\n",
       "  <tbody>\n",
       "    <tr>\n",
       "      <th>1</th>\n",
       "      <td>Mumbai Tiffin</td>\n",
       "      <td>North Indian, Home Food, Thalis, Combo</td>\n",
       "      <td>Sector 5, HSR</td>\n",
       "      <td>4.4</td>\n",
       "      <td>400</td>\n",
       "      <td>HSR</td>\n",
       "    </tr>\n",
       "    <tr>\n",
       "      <th>3</th>\n",
       "      <td>Al Daaz</td>\n",
       "      <td>American, Arabian, Chinese, Desserts, Fast Foo...</td>\n",
       "      <td>HSR, HSR</td>\n",
       "      <td>4.4</td>\n",
       "      <td>400</td>\n",
       "      <td>HSR</td>\n",
       "    </tr>\n",
       "    <tr>\n",
       "      <th>8</th>\n",
       "      <td>Hotel Manu</td>\n",
       "      <td>South Indian, Kerala, Chinese, North Indian</td>\n",
       "      <td>HSR, HSR</td>\n",
       "      <td>4.1</td>\n",
       "      <td>350</td>\n",
       "      <td>HSR</td>\n",
       "    </tr>\n",
       "    <tr>\n",
       "      <th>19</th>\n",
       "      <td>Shree Khana Khazana</td>\n",
       "      <td>Indian, Rajasthani</td>\n",
       "      <td>Sector 4, HSR</td>\n",
       "      <td>4.1</td>\n",
       "      <td>350</td>\n",
       "      <td>HSR</td>\n",
       "    </tr>\n",
       "    <tr>\n",
       "      <th>24</th>\n",
       "      <td>New Udupi Grand</td>\n",
       "      <td>Chinese, Jain, North Indian, South Indian</td>\n",
       "      <td>HSR, HSR</td>\n",
       "      <td>4.3</td>\n",
       "      <td>150</td>\n",
       "      <td>HSR</td>\n",
       "    </tr>\n",
       "    <tr>\n",
       "      <th>36</th>\n",
       "      <td>Biriyani Zone</td>\n",
       "      <td>North Indian, Chinese, Biryani</td>\n",
       "      <td>HSR 1st sector, HSR</td>\n",
       "      <td>4.1</td>\n",
       "      <td>600</td>\n",
       "      <td>HSR</td>\n",
       "    </tr>\n",
       "    <tr>\n",
       "      <th>37</th>\n",
       "      <td>Gongura's</td>\n",
       "      <td>North Indian, Chinese, Biryani</td>\n",
       "      <td>Sector 7, HSR</td>\n",
       "      <td>3.8</td>\n",
       "      <td>300</td>\n",
       "      <td>HSR</td>\n",
       "    </tr>\n",
       "    <tr>\n",
       "      <th>39</th>\n",
       "      <td>Leon Grill</td>\n",
       "      <td>Turkish, Portuguese, American</td>\n",
       "      <td>3rd Sector, HSR</td>\n",
       "      <td>4.3</td>\n",
       "      <td>300</td>\n",
       "      <td>HSR</td>\n",
       "    </tr>\n",
       "    <tr>\n",
       "      <th>41</th>\n",
       "      <td>Cakewala</td>\n",
       "      <td>Desserts</td>\n",
       "      <td>HSR, HSR</td>\n",
       "      <td>4.3</td>\n",
       "      <td>450</td>\n",
       "      <td>HSR</td>\n",
       "    </tr>\n",
       "    <tr>\n",
       "      <th>57</th>\n",
       "      <td>Donne Biriyani House</td>\n",
       "      <td>South Indian</td>\n",
       "      <td>3rd sector, HSR</td>\n",
       "      <td>4.0</td>\n",
       "      <td>300</td>\n",
       "      <td>HSR</td>\n",
       "    </tr>\n",
       "    <tr>\n",
       "      <th>58</th>\n",
       "      <td>Nanda's</td>\n",
       "      <td>Andhra, Biryani</td>\n",
       "      <td>HSR, HSR</td>\n",
       "      <td>4.0</td>\n",
       "      <td>400</td>\n",
       "      <td>HSR</td>\n",
       "    </tr>\n",
       "    <tr>\n",
       "      <th>61</th>\n",
       "      <td>Cake Garden</td>\n",
       "      <td>Desserts, Bakery</td>\n",
       "      <td>HSR, HSR</td>\n",
       "      <td>3.9</td>\n",
       "      <td>250</td>\n",
       "      <td>HSR</td>\n",
       "    </tr>\n",
       "    <tr>\n",
       "      <th>71</th>\n",
       "      <td>Nizams Biryani</td>\n",
       "      <td>Biryani, Juices, Kebabs</td>\n",
       "      <td>Venkatapura Main Rd, Teacher's Colony, Jakkasa...</td>\n",
       "      <td>3.6</td>\n",
       "      <td>200</td>\n",
       "      <td>HSR</td>\n",
       "    </tr>\n",
       "    <tr>\n",
       "      <th>73</th>\n",
       "      <td>Punjabi Rasoi</td>\n",
       "      <td>North Indian</td>\n",
       "      <td>Sector 3, HSR</td>\n",
       "      <td>4.0</td>\n",
       "      <td>800</td>\n",
       "      <td>HSR</td>\n",
       "    </tr>\n",
       "    <tr>\n",
       "      <th>98</th>\n",
       "      <td>Mandya Gowdru Donne Biryani</td>\n",
       "      <td>Biryani</td>\n",
       "      <td>HSR, HSR</td>\n",
       "      <td>0.0</td>\n",
       "      <td>350</td>\n",
       "      <td>HSR</td>\n",
       "    </tr>\n",
       "    <tr>\n",
       "      <th>99</th>\n",
       "      <td>Dindigul Thalapakatti Biriyani</td>\n",
       "      <td>North Indian</td>\n",
       "      <td>HSR, HSR</td>\n",
       "      <td>4.1</td>\n",
       "      <td>650</td>\n",
       "      <td>HSR</td>\n",
       "    </tr>\n",
       "    <tr>\n",
       "      <th>101</th>\n",
       "      <td>Easy Bites</td>\n",
       "      <td>Snacks, American</td>\n",
       "      <td>9th Main Rd, Sector 6, HSR Layout, HSR</td>\n",
       "      <td>3.8</td>\n",
       "      <td>200</td>\n",
       "      <td>HSR</td>\n",
       "    </tr>\n",
       "    <tr>\n",
       "      <th>107</th>\n",
       "      <td>Junior Kuppanna</td>\n",
       "      <td>Chettinad, South Indian</td>\n",
       "      <td>Sector 6, HSR</td>\n",
       "      <td>4.0</td>\n",
       "      <td>550</td>\n",
       "      <td>HSR</td>\n",
       "    </tr>\n",
       "  </tbody>\n",
       "</table>\n",
       "</div>"
      ],
      "text/plain": [
       "                          Shop_Name  \\\n",
       "1                     Mumbai Tiffin   \n",
       "3                           Al Daaz   \n",
       "8                        Hotel Manu   \n",
       "19              Shree Khana Khazana   \n",
       "24                  New Udupi Grand   \n",
       "36                    Biriyani Zone   \n",
       "37                        Gongura's   \n",
       "39                       Leon Grill   \n",
       "41                         Cakewala   \n",
       "57             Donne Biriyani House   \n",
       "58                          Nanda's   \n",
       "61                      Cake Garden   \n",
       "71                   Nizams Biryani   \n",
       "73                    Punjabi Rasoi   \n",
       "98      Mandya Gowdru Donne Biryani   \n",
       "99   Dindigul Thalapakatti Biriyani   \n",
       "101                      Easy Bites   \n",
       "107                 Junior Kuppanna   \n",
       "\n",
       "                                               Cuisine  \\\n",
       "1               North Indian, Home Food, Thalis, Combo   \n",
       "3    American, Arabian, Chinese, Desserts, Fast Foo...   \n",
       "8          South Indian, Kerala, Chinese, North Indian   \n",
       "19                                  Indian, Rajasthani   \n",
       "24           Chinese, Jain, North Indian, South Indian   \n",
       "36                      North Indian, Chinese, Biryani   \n",
       "37                      North Indian, Chinese, Biryani   \n",
       "39                       Turkish, Portuguese, American   \n",
       "41                                            Desserts   \n",
       "57                                        South Indian   \n",
       "58                                     Andhra, Biryani   \n",
       "61                                    Desserts, Bakery   \n",
       "71                             Biryani, Juices, Kebabs   \n",
       "73                                        North Indian   \n",
       "98                                             Biryani   \n",
       "99                                        North Indian   \n",
       "101                                   Snacks, American   \n",
       "107                            Chettinad, South Indian   \n",
       "\n",
       "                                              Location  Rating  Cost_for_Two  \\\n",
       "1                                        Sector 5, HSR     4.4           400   \n",
       "3                                             HSR, HSR     4.4           400   \n",
       "8                                             HSR, HSR     4.1           350   \n",
       "19                                       Sector 4, HSR     4.1           350   \n",
       "24                                            HSR, HSR     4.3           150   \n",
       "36                                 HSR 1st sector, HSR     4.1           600   \n",
       "37                                       Sector 7, HSR     3.8           300   \n",
       "39                                     3rd Sector, HSR     4.3           300   \n",
       "41                                            HSR, HSR     4.3           450   \n",
       "57                                     3rd sector, HSR     4.0           300   \n",
       "58                                            HSR, HSR     4.0           400   \n",
       "61                                            HSR, HSR     3.9           250   \n",
       "71   Venkatapura Main Rd, Teacher's Colony, Jakkasa...     3.6           200   \n",
       "73                                       Sector 3, HSR     4.0           800   \n",
       "98                                            HSR, HSR     0.0           350   \n",
       "99                                            HSR, HSR     4.1           650   \n",
       "101             9th Main Rd, Sector 6, HSR Layout, HSR     3.8           200   \n",
       "107                                      Sector 6, HSR     4.0           550   \n",
       "\n",
       "     Area  \n",
       "1     HSR  \n",
       "3     HSR  \n",
       "8     HSR  \n",
       "19    HSR  \n",
       "24    HSR  \n",
       "36    HSR  \n",
       "37    HSR  \n",
       "39    HSR  \n",
       "41    HSR  \n",
       "57    HSR  \n",
       "58    HSR  \n",
       "61    HSR  \n",
       "71    HSR  \n",
       "73    HSR  \n",
       "98    HSR  \n",
       "99    HSR  \n",
       "101   HSR  \n",
       "107   HSR  "
      ]
     },
     "execution_count": 48,
     "metadata": {},
     "output_type": "execute_result"
    }
   ],
   "source": [
    "print('HSR Area')\n",
    "HSR = df[df['Area'] == ' HSR']\n",
    "HSR"
   ]
  },
  {
   "cell_type": "code",
   "execution_count": 49,
   "id": "cf6ce8d8",
   "metadata": {},
   "outputs": [
    {
     "data": {
      "text/html": [
       "<div>\n",
       "<style scoped>\n",
       "    .dataframe tbody tr th:only-of-type {\n",
       "        vertical-align: middle;\n",
       "    }\n",
       "\n",
       "    .dataframe tbody tr th {\n",
       "        vertical-align: top;\n",
       "    }\n",
       "\n",
       "    .dataframe thead th {\n",
       "        text-align: right;\n",
       "    }\n",
       "</style>\n",
       "<table border=\"1\" class=\"dataframe\">\n",
       "  <thead>\n",
       "    <tr style=\"text-align: right;\">\n",
       "      <th></th>\n",
       "      <th>Rating</th>\n",
       "      <th>Cost_for_Two</th>\n",
       "    </tr>\n",
       "  </thead>\n",
       "  <tbody>\n",
       "    <tr>\n",
       "      <th>count</th>\n",
       "      <td>18.000000</td>\n",
       "      <td>18.000000</td>\n",
       "    </tr>\n",
       "    <tr>\n",
       "      <th>mean</th>\n",
       "      <td>3.844444</td>\n",
       "      <td>388.888889</td>\n",
       "    </tr>\n",
       "    <tr>\n",
       "      <th>std</th>\n",
       "      <td>0.983524</td>\n",
       "      <td>169.389523</td>\n",
       "    </tr>\n",
       "    <tr>\n",
       "      <th>min</th>\n",
       "      <td>0.000000</td>\n",
       "      <td>150.000000</td>\n",
       "    </tr>\n",
       "    <tr>\n",
       "      <th>25%</th>\n",
       "      <td>3.925000</td>\n",
       "      <td>300.000000</td>\n",
       "    </tr>\n",
       "    <tr>\n",
       "      <th>50%</th>\n",
       "      <td>4.050000</td>\n",
       "      <td>350.000000</td>\n",
       "    </tr>\n",
       "    <tr>\n",
       "      <th>75%</th>\n",
       "      <td>4.250000</td>\n",
       "      <td>437.500000</td>\n",
       "    </tr>\n",
       "    <tr>\n",
       "      <th>max</th>\n",
       "      <td>4.400000</td>\n",
       "      <td>800.000000</td>\n",
       "    </tr>\n",
       "  </tbody>\n",
       "</table>\n",
       "</div>"
      ],
      "text/plain": [
       "          Rating  Cost_for_Two\n",
       "count  18.000000     18.000000\n",
       "mean    3.844444    388.888889\n",
       "std     0.983524    169.389523\n",
       "min     0.000000    150.000000\n",
       "25%     3.925000    300.000000\n",
       "50%     4.050000    350.000000\n",
       "75%     4.250000    437.500000\n",
       "max     4.400000    800.000000"
      ]
     },
     "execution_count": 49,
     "metadata": {},
     "output_type": "execute_result"
    }
   ],
   "source": [
    "HSR.describe()"
   ]
  },
  {
   "cell_type": "code",
   "execution_count": 51,
   "id": "7f5143d5",
   "metadata": {},
   "outputs": [
    {
     "data": {
      "text/plain": [
       "<AxesSubplot:xlabel='Shop_Name', ylabel='Rating'>"
      ]
     },
     "execution_count": 51,
     "metadata": {},
     "output_type": "execute_result"
    },
    {
     "data": {
      "image/png": "[encoded data removed]",
      "text/plain": [
       "<Figure size 720x720 with 1 Axes>"
      ]
     },
     "metadata": {
      "needs_background": "light"
     },
     "output_type": "display_data"
    }
   ],
   "source": [
    "plt.figure(figsize=(10,10))\n",
    "plt.xticks(rotation=90)\n",
    "sns.barplot(x=HSR['Shop_Name'],y=HSR.Rating)"
   ]
  },
  {
   "cell_type": "code",
   "execution_count": 53,
   "id": "467e9e1e",
   "metadata": {},
   "outputs": [
    {
     "data": {
      "text/plain": [
       "<AxesSubplot:xlabel='Cost_for_Two', ylabel='Count'>"
      ]
     },
     "execution_count": 53,
     "metadata": {},
     "output_type": "execute_result"
    },
    {
     "data": {
      "image/png": "[encoded data removed]",
      "text/plain": [
       "<Figure size 432x288 with 1 Axes>"
      ]
     },
     "metadata": {
      "needs_background": "light"
     },
     "output_type": "display_data"
    }
   ],
   "source": [
    "sns.histplot(HSR['Cost_for_Two'],bins=10)"
   ]
  },
  {
   "cell_type": "code",
   "execution_count": 54,
   "id": "cb18c2e1",
   "metadata": {},
   "outputs": [
    {
     "data": {
      "text/plain": [
       "<AxesSubplot:xlabel='Rating', ylabel='Count'>"
      ]
     },
     "execution_count": 54,
     "metadata": {},
     "output_type": "execute_result"
    },
    {
     "data": {
      "image/png": "[encoded data removed]",
      "text/plain": [
       "<Figure size 432x288 with 1 Axes>"
      ]
     },
     "metadata": {
      "needs_background": "light"
     },
     "output_type": "display_data"
    }
   ],
   "source": [
    "sns.histplot(HSR['Rating'],bins=10)"
   ]
  },
  {
   "cell_type": "code",
   "execution_count": 55,
   "id": "8d969e9b",
   "metadata": {},
   "outputs": [
    {
     "name": "stdout",
     "output_type": "stream",
     "text": [
      "BTM Area\n"
     ]
    },
    {
     "data": {
      "text/html": [
       "<div>\n",
       "<style scoped>\n",
       "    .dataframe tbody tr th:only-of-type {\n",
       "        vertical-align: middle;\n",
       "    }\n",
       "\n",
       "    .dataframe tbody tr th {\n",
       "        vertical-align: top;\n",
       "    }\n",
       "\n",
       "    .dataframe thead th {\n",
       "        text-align: right;\n",
       "    }\n",
       "</style>\n",
       "<table border=\"1\" class=\"dataframe\">\n",
       "  <thead>\n",
       "    <tr style=\"text-align: right;\">\n",
       "      <th></th>\n",
       "      <th>Shop_Name</th>\n",
       "      <th>Cuisine</th>\n",
       "      <th>Location</th>\n",
       "      <th>Rating</th>\n",
       "      <th>Cost_for_Two</th>\n",
       "      <th>Area</th>\n",
       "    </tr>\n",
       "  </thead>\n",
       "  <tbody>\n",
       "    <tr>\n",
       "      <th>6</th>\n",
       "      <td>99 VARIETY DOSA AND PAV BHAJI- Malli Mane Food...</td>\n",
       "      <td>Fast Food, North Indian, Chinese</td>\n",
       "      <td>BTM 2nd Stage, BTM</td>\n",
       "      <td>4.1</td>\n",
       "      <td>200</td>\n",
       "      <td>BTM</td>\n",
       "    </tr>\n",
       "    <tr>\n",
       "      <th>7</th>\n",
       "      <td>La Pino'z Pizza</td>\n",
       "      <td>Italian</td>\n",
       "      <td>BTM, BTM</td>\n",
       "      <td>3.9</td>\n",
       "      <td>500</td>\n",
       "      <td>BTM</td>\n",
       "    </tr>\n",
       "    <tr>\n",
       "      <th>10</th>\n",
       "      <td>Ambur Star Briyani</td>\n",
       "      <td>Chinese, South Indian, North Indian, Desserts,...</td>\n",
       "      <td>outer ring road, BTM</td>\n",
       "      <td>4.1</td>\n",
       "      <td>500</td>\n",
       "      <td>BTM</td>\n",
       "    </tr>\n",
       "    <tr>\n",
       "      <th>17</th>\n",
       "      <td>Sri Lakshmi Dhaba</td>\n",
       "      <td>North Indian</td>\n",
       "      <td>Bommanahalli, BTM</td>\n",
       "      <td>3.7</td>\n",
       "      <td>200</td>\n",
       "      <td>BTM</td>\n",
       "    </tr>\n",
       "    <tr>\n",
       "      <th>20</th>\n",
       "      <td>Just Bake - Cakes &amp; confectioners</td>\n",
       "      <td>Desserts, Bakery</td>\n",
       "      <td>BTM 1st stage, BTM</td>\n",
       "      <td>4.3</td>\n",
       "      <td>300</td>\n",
       "      <td>BTM</td>\n",
       "    </tr>\n",
       "    <tr>\n",
       "      <th>22</th>\n",
       "      <td>Hotel Godavari</td>\n",
       "      <td>North Indian, Chinese, Hyderabadi</td>\n",
       "      <td>Marutinagar Main Road, BTM</td>\n",
       "      <td>4.0</td>\n",
       "      <td>400</td>\n",
       "      <td>BTM</td>\n",
       "    </tr>\n",
       "    <tr>\n",
       "      <th>25</th>\n",
       "      <td>Swad Punjab da</td>\n",
       "      <td>Indian</td>\n",
       "      <td>BTM, BTM</td>\n",
       "      <td>4.1</td>\n",
       "      <td>250</td>\n",
       "      <td>BTM</td>\n",
       "    </tr>\n",
       "    <tr>\n",
       "      <th>27</th>\n",
       "      <td>High N Hungry</td>\n",
       "      <td>Andhra, Biryani, Chinese, Desserts, Fast Food,...</td>\n",
       "      <td>4th Cross, BTM</td>\n",
       "      <td>4.1</td>\n",
       "      <td>350</td>\n",
       "      <td>BTM</td>\n",
       "    </tr>\n",
       "    <tr>\n",
       "      <th>31</th>\n",
       "      <td>Bengali Fun Foods</td>\n",
       "      <td>North Indian</td>\n",
       "      <td>BTM 2nd stage, BTM</td>\n",
       "      <td>4.2</td>\n",
       "      <td>300</td>\n",
       "      <td>BTM</td>\n",
       "    </tr>\n",
       "    <tr>\n",
       "      <th>33</th>\n",
       "      <td>Oottupura</td>\n",
       "      <td>Kerala, South Indian</td>\n",
       "      <td>BTM, BTM</td>\n",
       "      <td>4.3</td>\n",
       "      <td>268</td>\n",
       "      <td>BTM</td>\n",
       "    </tr>\n",
       "    <tr>\n",
       "      <th>35</th>\n",
       "      <td>Hyderabadi Biryani Hub</td>\n",
       "      <td>North Indian, Chinese, Biryani</td>\n",
       "      <td>3rd main, BTM</td>\n",
       "      <td>3.9</td>\n",
       "      <td>450</td>\n",
       "      <td>BTM</td>\n",
       "    </tr>\n",
       "    <tr>\n",
       "      <th>40</th>\n",
       "      <td>Venu's Donne Biryani</td>\n",
       "      <td>Biryani</td>\n",
       "      <td>Chocolate Factory Road, BTM</td>\n",
       "      <td>4.3</td>\n",
       "      <td>300</td>\n",
       "      <td>BTM</td>\n",
       "    </tr>\n",
       "    <tr>\n",
       "      <th>42</th>\n",
       "      <td>Swadista Aahar</td>\n",
       "      <td>South Indian, Snacks, North Indian, Chinese</td>\n",
       "      <td>16th Main Road, 2nd Stage, BTM</td>\n",
       "      <td>4.1</td>\n",
       "      <td>250</td>\n",
       "      <td>BTM</td>\n",
       "    </tr>\n",
       "    <tr>\n",
       "      <th>44</th>\n",
       "      <td>Svadu Pure Ghee Sweets</td>\n",
       "      <td>Desserts, Fast Food, Sweets, Chaat</td>\n",
       "      <td>1st Stage, BTM</td>\n",
       "      <td>4.1</td>\n",
       "      <td>200</td>\n",
       "      <td>BTM</td>\n",
       "    </tr>\n",
       "    <tr>\n",
       "      <th>45</th>\n",
       "      <td>Sai Abhiruchi</td>\n",
       "      <td>Chinese, South Indian, Andhra, Hyderabadi</td>\n",
       "      <td>BTM, BTM</td>\n",
       "      <td>3.7</td>\n",
       "      <td>250</td>\n",
       "      <td>BTM</td>\n",
       "    </tr>\n",
       "    <tr>\n",
       "      <th>49</th>\n",
       "      <td>Balaji's Veg</td>\n",
       "      <td>North Indian, Chinese, South Indian</td>\n",
       "      <td>Mico Layout, BTM</td>\n",
       "      <td>4.1</td>\n",
       "      <td>300</td>\n",
       "      <td>BTM</td>\n",
       "    </tr>\n",
       "    <tr>\n",
       "      <th>51</th>\n",
       "      <td>Donne Biryani Mandi</td>\n",
       "      <td>Biryani, Andhra, South Indian</td>\n",
       "      <td>BTM, BTM</td>\n",
       "      <td>4.0</td>\n",
       "      <td>150</td>\n",
       "      <td>BTM</td>\n",
       "    </tr>\n",
       "    <tr>\n",
       "      <th>60</th>\n",
       "      <td>calicut cafe restaurant</td>\n",
       "      <td>Fast Food, Beverages</td>\n",
       "      <td>BTM, BTM</td>\n",
       "      <td>4.1</td>\n",
       "      <td>280</td>\n",
       "      <td>BTM</td>\n",
       "    </tr>\n",
       "    <tr>\n",
       "      <th>65</th>\n",
       "      <td>World of asia</td>\n",
       "      <td>Beverages, Chinese</td>\n",
       "      <td>BTM, BTM</td>\n",
       "      <td>4.0</td>\n",
       "      <td>250</td>\n",
       "      <td>BTM</td>\n",
       "    </tr>\n",
       "    <tr>\n",
       "      <th>66</th>\n",
       "      <td>Ghar Ka Khana</td>\n",
       "      <td>North Indian</td>\n",
       "      <td>BTM, BTM</td>\n",
       "      <td>4.2</td>\n",
       "      <td>220</td>\n",
       "      <td>BTM</td>\n",
       "    </tr>\n",
       "    <tr>\n",
       "      <th>68</th>\n",
       "      <td>KANNUR FOOD POINT</td>\n",
       "      <td>Kerala, Chinese</td>\n",
       "      <td>SG palaya, BTM</td>\n",
       "      <td>3.9</td>\n",
       "      <td>300</td>\n",
       "      <td>BTM</td>\n",
       "    </tr>\n",
       "    <tr>\n",
       "      <th>69</th>\n",
       "      <td>KANNOOR RESTAURANT</td>\n",
       "      <td>North Indian, Chinese</td>\n",
       "      <td>BTM, BTM</td>\n",
       "      <td>4.0</td>\n",
       "      <td>250</td>\n",
       "      <td>BTM</td>\n",
       "    </tr>\n",
       "    <tr>\n",
       "      <th>70</th>\n",
       "      <td>Fattoush</td>\n",
       "      <td>Arabian, Beverages, Biryani, Chinese, Desserts...</td>\n",
       "      <td>BTM, BTM</td>\n",
       "      <td>3.9</td>\n",
       "      <td>400</td>\n",
       "      <td>BTM</td>\n",
       "    </tr>\n",
       "    <tr>\n",
       "      <th>76</th>\n",
       "      <td>BIRIYANI TASTE MASTH(BTM)</td>\n",
       "      <td>North Indian, South Indian</td>\n",
       "      <td>Btm, BTM</td>\n",
       "      <td>4.2</td>\n",
       "      <td>300</td>\n",
       "      <td>BTM</td>\n",
       "    </tr>\n",
       "    <tr>\n",
       "      <th>79</th>\n",
       "      <td>Tandoori Merchant</td>\n",
       "      <td>Andhra, Biryani, Chinese, Desserts, Fast Food,...</td>\n",
       "      <td>4th Cross, BTM</td>\n",
       "      <td>4.2</td>\n",
       "      <td>100</td>\n",
       "      <td>BTM</td>\n",
       "    </tr>\n",
       "    <tr>\n",
       "      <th>80</th>\n",
       "      <td>Chinese Bae</td>\n",
       "      <td>Chinese, Thai</td>\n",
       "      <td>BTM, BTM</td>\n",
       "      <td>4.5</td>\n",
       "      <td>450</td>\n",
       "      <td>BTM</td>\n",
       "    </tr>\n",
       "    <tr>\n",
       "      <th>83</th>\n",
       "      <td>Abhiruchi Hotel</td>\n",
       "      <td>Chinese, Hyderabadi, Biryani, Indian, South In...</td>\n",
       "      <td>BTM, BTM</td>\n",
       "      <td>4.0</td>\n",
       "      <td>250</td>\n",
       "      <td>BTM</td>\n",
       "    </tr>\n",
       "    <tr>\n",
       "      <th>84</th>\n",
       "      <td>Punjabi Swag</td>\n",
       "      <td>Punjabi, North Indian, Chinese, Fast Food, Hea...</td>\n",
       "      <td>16th Main Road, BTM</td>\n",
       "      <td>3.7</td>\n",
       "      <td>400</td>\n",
       "      <td>BTM</td>\n",
       "    </tr>\n",
       "    <tr>\n",
       "      <th>86</th>\n",
       "      <td>Gyaani Da Punjabi Dhaba</td>\n",
       "      <td>North Indian</td>\n",
       "      <td>2nd Stage, BTM</td>\n",
       "      <td>4.0</td>\n",
       "      <td>500</td>\n",
       "      <td>BTM</td>\n",
       "    </tr>\n",
       "    <tr>\n",
       "      <th>87</th>\n",
       "      <td>Biriyani Bhatti</td>\n",
       "      <td>Biryani, Hyderabadi, Andhra, North Indian, Sou...</td>\n",
       "      <td>Kuvempu Nagar, Stage 2, BTM</td>\n",
       "      <td>4.1</td>\n",
       "      <td>350</td>\n",
       "      <td>BTM</td>\n",
       "    </tr>\n",
       "    <tr>\n",
       "      <th>92</th>\n",
       "      <td>BIRYANI CRAFTS</td>\n",
       "      <td>Indian</td>\n",
       "      <td>BTM, BTM</td>\n",
       "      <td>4.1</td>\n",
       "      <td>500</td>\n",
       "      <td>BTM</td>\n",
       "    </tr>\n",
       "    <tr>\n",
       "      <th>104</th>\n",
       "      <td>R.B Food Point</td>\n",
       "      <td>Chinese, North Indian</td>\n",
       "      <td>Jay Bheema Nagar, BTM</td>\n",
       "      <td>3.7</td>\n",
       "      <td>350</td>\n",
       "      <td>BTM</td>\n",
       "    </tr>\n",
       "    <tr>\n",
       "      <th>106</th>\n",
       "      <td>New Tasty Cafeteria</td>\n",
       "      <td>Andhra, Chettinad, Chinese, Mughlai, North Indian</td>\n",
       "      <td>Maruthi Nagar, BTM</td>\n",
       "      <td>4.0</td>\n",
       "      <td>350</td>\n",
       "      <td>BTM</td>\n",
       "    </tr>\n",
       "    <tr>\n",
       "      <th>110</th>\n",
       "      <td>Biryani Pot</td>\n",
       "      <td>North Indian, Biryani</td>\n",
       "      <td>Madiwala Junction, BTM</td>\n",
       "      <td>4.0</td>\n",
       "      <td>500</td>\n",
       "      <td>BTM</td>\n",
       "    </tr>\n",
       "    <tr>\n",
       "      <th>114</th>\n",
       "      <td>Savoury Restaurant</td>\n",
       "      <td>Arabian, Middle Eastern, North Indian, Grill, ...</td>\n",
       "      <td>Madiwala, BTM</td>\n",
       "      <td>4.1</td>\n",
       "      <td>600</td>\n",
       "      <td>BTM</td>\n",
       "    </tr>\n",
       "  </tbody>\n",
       "</table>\n",
       "</div>"
      ],
      "text/plain": [
       "                                             Shop_Name  \\\n",
       "6    99 VARIETY DOSA AND PAV BHAJI- Malli Mane Food...   \n",
       "7                                      La Pino'z Pizza   \n",
       "10                                  Ambur Star Briyani   \n",
       "17                                   Sri Lakshmi Dhaba   \n",
       "20                   Just Bake - Cakes & confectioners   \n",
       "22                                      Hotel Godavari   \n",
       "25                                      Swad Punjab da   \n",
       "27                                       High N Hungry   \n",
       "31                                   Bengali Fun Foods   \n",
       "33                                           Oottupura   \n",
       "35                              Hyderabadi Biryani Hub   \n",
       "40                                Venu's Donne Biryani   \n",
       "42                                      Swadista Aahar   \n",
       "44                              Svadu Pure Ghee Sweets   \n",
       "45                                       Sai Abhiruchi   \n",
       "49                                        Balaji's Veg   \n",
       "51                                 Donne Biryani Mandi   \n",
       "60                             calicut cafe restaurant   \n",
       "65                                       World of asia   \n",
       "66                                       Ghar Ka Khana   \n",
       "68                                   KANNUR FOOD POINT   \n",
       "69                                  KANNOOR RESTAURANT   \n",
       "70                                            Fattoush   \n",
       "76                           BIRIYANI TASTE MASTH(BTM)   \n",
       "79                                   Tandoori Merchant   \n",
       "80                                         Chinese Bae   \n",
       "83                                     Abhiruchi Hotel   \n",
       "84                                        Punjabi Swag   \n",
       "86                             Gyaani Da Punjabi Dhaba   \n",
       "87                                     Biriyani Bhatti   \n",
       "92                                      BIRYANI CRAFTS   \n",
       "104                                     R.B Food Point   \n",
       "106                                New Tasty Cafeteria   \n",
       "110                                        Biryani Pot   \n",
       "114                                 Savoury Restaurant   \n",
       "\n",
       "                                               Cuisine  \\\n",
       "6                     Fast Food, North Indian, Chinese   \n",
       "7                                              Italian   \n",
       "10   Chinese, South Indian, North Indian, Desserts,...   \n",
       "17                                        North Indian   \n",
       "20                                    Desserts, Bakery   \n",
       "22                   North Indian, Chinese, Hyderabadi   \n",
       "25                                              Indian   \n",
       "27   Andhra, Biryani, Chinese, Desserts, Fast Food,...   \n",
       "31                                        North Indian   \n",
       "33                                Kerala, South Indian   \n",
       "35                      North Indian, Chinese, Biryani   \n",
       "40                                             Biryani   \n",
       "42         South Indian, Snacks, North Indian, Chinese   \n",
       "44                  Desserts, Fast Food, Sweets, Chaat   \n",
       "45           Chinese, South Indian, Andhra, Hyderabadi   \n",
       "49                 North Indian, Chinese, South Indian   \n",
       "51                       Biryani, Andhra, South Indian   \n",
       "60                                Fast Food, Beverages   \n",
       "65                                  Beverages, Chinese   \n",
       "66                                        North Indian   \n",
       "68                                     Kerala, Chinese   \n",
       "69                               North Indian, Chinese   \n",
       "70   Arabian, Beverages, Biryani, Chinese, Desserts...   \n",
       "76                          North Indian, South Indian   \n",
       "79   Andhra, Biryani, Chinese, Desserts, Fast Food,...   \n",
       "80                                       Chinese, Thai   \n",
       "83   Chinese, Hyderabadi, Biryani, Indian, South In...   \n",
       "84   Punjabi, North Indian, Chinese, Fast Food, Hea...   \n",
       "86                                        North Indian   \n",
       "87   Biryani, Hyderabadi, Andhra, North Indian, Sou...   \n",
       "92                                              Indian   \n",
       "104                              Chinese, North Indian   \n",
       "106  Andhra, Chettinad, Chinese, Mughlai, North Indian   \n",
       "110                              North Indian, Biryani   \n",
       "114  Arabian, Middle Eastern, North Indian, Grill, ...   \n",
       "\n",
       "                           Location  Rating  Cost_for_Two  Area  \n",
       "6                BTM 2nd Stage, BTM     4.1           200   BTM  \n",
       "7                          BTM, BTM     3.9           500   BTM  \n",
       "10             outer ring road, BTM     4.1           500   BTM  \n",
       "17                Bommanahalli, BTM     3.7           200   BTM  \n",
       "20               BTM 1st stage, BTM     4.3           300   BTM  \n",
       "22       Marutinagar Main Road, BTM     4.0           400   BTM  \n",
       "25                         BTM, BTM     4.1           250   BTM  \n",
       "27                   4th Cross, BTM     4.1           350   BTM  \n",
       "31               BTM 2nd stage, BTM     4.2           300   BTM  \n",
       "33                         BTM, BTM     4.3           268   BTM  \n",
       "35                    3rd main, BTM     3.9           450   BTM  \n",
       "40      Chocolate Factory Road, BTM     4.3           300   BTM  \n",
       "42   16th Main Road, 2nd Stage, BTM     4.1           250   BTM  \n",
       "44                   1st Stage, BTM     4.1           200   BTM  \n",
       "45                         BTM, BTM     3.7           250   BTM  \n",
       "49                 Mico Layout, BTM     4.1           300   BTM  \n",
       "51                         BTM, BTM     4.0           150   BTM  \n",
       "60                         BTM, BTM     4.1           280   BTM  \n",
       "65                         BTM, BTM     4.0           250   BTM  \n",
       "66                         BTM, BTM     4.2           220   BTM  \n",
       "68                   SG palaya, BTM     3.9           300   BTM  \n",
       "69                         BTM, BTM     4.0           250   BTM  \n",
       "70                         BTM, BTM     3.9           400   BTM  \n",
       "76                         Btm, BTM     4.2           300   BTM  \n",
       "79                   4th Cross, BTM     4.2           100   BTM  \n",
       "80                         BTM, BTM     4.5           450   BTM  \n",
       "83                         BTM, BTM     4.0           250   BTM  \n",
       "84              16th Main Road, BTM     3.7           400   BTM  \n",
       "86                   2nd Stage, BTM     4.0           500   BTM  \n",
       "87      Kuvempu Nagar, Stage 2, BTM     4.1           350   BTM  \n",
       "92                         BTM, BTM     4.1           500   BTM  \n",
       "104           Jay Bheema Nagar, BTM     3.7           350   BTM  \n",
       "106              Maruthi Nagar, BTM     4.0           350   BTM  \n",
       "110          Madiwala Junction, BTM     4.0           500   BTM  \n",
       "114                   Madiwala, BTM     4.1           600   BTM  "
      ]
     },
     "execution_count": 55,
     "metadata": {},
     "output_type": "execute_result"
    }
   ],
   "source": [
    "print(\"BTM Area\")\n",
    "BTM = df[df['Area'] == ' BTM']\n",
    "BTM"
   ]
  },
  {
   "cell_type": "code",
   "execution_count": 57,
   "id": "4ed49c1b",
   "metadata": {},
   "outputs": [
    {
     "data": {
      "text/html": [
       "<div>\n",
       "<style scoped>\n",
       "    .dataframe tbody tr th:only-of-type {\n",
       "        vertical-align: middle;\n",
       "    }\n",
       "\n",
       "    .dataframe tbody tr th {\n",
       "        vertical-align: top;\n",
       "    }\n",
       "\n",
       "    .dataframe thead th {\n",
       "        text-align: right;\n",
       "    }\n",
       "</style>\n",
       "<table border=\"1\" class=\"dataframe\">\n",
       "  <thead>\n",
       "    <tr style=\"text-align: right;\">\n",
       "      <th></th>\n",
       "      <th>Rating</th>\n",
       "      <th>Cost_for_Two</th>\n",
       "    </tr>\n",
       "  </thead>\n",
       "  <tbody>\n",
       "    <tr>\n",
       "      <th>count</th>\n",
       "      <td>35.000000</td>\n",
       "      <td>35.000000</td>\n",
       "    </tr>\n",
       "    <tr>\n",
       "      <th>mean</th>\n",
       "      <td>4.048571</td>\n",
       "      <td>329.085714</td>\n",
       "    </tr>\n",
       "    <tr>\n",
       "      <th>std</th>\n",
       "      <td>0.180476</td>\n",
       "      <td>116.406330</td>\n",
       "    </tr>\n",
       "    <tr>\n",
       "      <th>min</th>\n",
       "      <td>3.700000</td>\n",
       "      <td>100.000000</td>\n",
       "    </tr>\n",
       "    <tr>\n",
       "      <th>25%</th>\n",
       "      <td>4.000000</td>\n",
       "      <td>250.000000</td>\n",
       "    </tr>\n",
       "    <tr>\n",
       "      <th>50%</th>\n",
       "      <td>4.100000</td>\n",
       "      <td>300.000000</td>\n",
       "    </tr>\n",
       "    <tr>\n",
       "      <th>75%</th>\n",
       "      <td>4.100000</td>\n",
       "      <td>400.000000</td>\n",
       "    </tr>\n",
       "    <tr>\n",
       "      <th>max</th>\n",
       "      <td>4.500000</td>\n",
       "      <td>600.000000</td>\n",
       "    </tr>\n",
       "  </tbody>\n",
       "</table>\n",
       "</div>"
      ],
      "text/plain": [
       "          Rating  Cost_for_Two\n",
       "count  35.000000     35.000000\n",
       "mean    4.048571    329.085714\n",
       "std     0.180476    116.406330\n",
       "min     3.700000    100.000000\n",
       "25%     4.000000    250.000000\n",
       "50%     4.100000    300.000000\n",
       "75%     4.100000    400.000000\n",
       "max     4.500000    600.000000"
      ]
     },
     "execution_count": 57,
     "metadata": {},
     "output_type": "execute_result"
    }
   ],
   "source": [
    "BTM.describe()"
   ]
  },
  {
   "cell_type": "code",
   "execution_count": 58,
   "id": "ad79158d",
   "metadata": {},
   "outputs": [
    {
     "data": {
      "text/plain": [
       "<AxesSubplot:xlabel='Shop_Name', ylabel='Rating'>"
      ]
     },
     "execution_count": 58,
     "metadata": {},
     "output_type": "execute_result"
    },
    {
     "data": {
      "image/png": "[encoded data removed]",
      "text/plain": [
       "<Figure size 720x720 with 1 Axes>"
      ]
     },
     "metadata": {
      "needs_background": "light"
     },
     "output_type": "display_data"
    }
   ],
   "source": [
    "plt.figure(figsize=(10,10))\n",
    "plt.xticks(rotation=90)\n",
    "sns.barplot(x=BTM['Shop_Name'],y=BTM.Rating)"
   ]
  },
  {
   "cell_type": "code",
   "execution_count": 59,
   "id": "116674e9",
   "metadata": {},
   "outputs": [
    {
     "data": {
      "text/plain": [
       "<AxesSubplot:xlabel='Cost_for_Two', ylabel='Count'>"
      ]
     },
     "execution_count": 59,
     "metadata": {},
     "output_type": "execute_result"
    },
    {
     "data": {
      "image/png": "[encoded data removed]",
      "text/plain": [
       "<Figure size 432x288 with 1 Axes>"
      ]
     },
     "metadata": {
      "needs_background": "light"
     },
     "output_type": "display_data"
    }
   ],
   "source": [
    "sns.histplot(BTM['Cost_for_Two'],bins=10)"
   ]
  },
  {
   "cell_type": "code",
   "execution_count": 60,
   "id": "9267d9b7",
   "metadata": {},
   "outputs": [
    {
     "data": {
      "text/plain": [
       "<AxesSubplot:xlabel='Rating', ylabel='Count'>"
      ]
     },
     "execution_count": 60,
     "metadata": {},
     "output_type": "execute_result"
    },
    {
     "data": {
      "image/png": "[encoded data removed]",
      "text/plain": [
       "<Figure size 432x288 with 1 Axes>"
      ]
     },
     "metadata": {
      "needs_background": "light"
     },
     "output_type": "display_data"
    }
   ],
   "source": [
    "sns.histplot(BTM['Rating'],bins=10)"
   ]
  },
  {
   "cell_type": "code",
   "execution_count": 61,
   "id": "a057e3bf",
   "metadata": {},
   "outputs": [],
   "source": [
    "#Observations:\n",
    "#Area-wise the cost for two and Rating differs accordingly\n",
    "#BTM: Most of the places has 4.0 - 4.2 ratings and the cost for two lies between 200-350. \n",
    "#HSR: Most of the places has 4.0 or higher ratings and the cost for two lies between 300-400.\n",
    "#Kormangala: Most of the places has 4.0 - 4.3 ratings and the cost for two lies between 200-350.\n",
    "#From the above findings, we can conclude that HSR is compraratively more costly."
   ]
  },
  {
   "cell_type": "code",
   "execution_count": 62,
   "id": "679a3d89",
   "metadata": {},
   "outputs": [
    {
     "data": {
      "text/html": [
       "<div>\n",
       "<style scoped>\n",
       "    .dataframe tbody tr th:only-of-type {\n",
       "        vertical-align: middle;\n",
       "    }\n",
       "\n",
       "    .dataframe tbody tr th {\n",
       "        vertical-align: top;\n",
       "    }\n",
       "\n",
       "    .dataframe thead th {\n",
       "        text-align: right;\n",
       "    }\n",
       "</style>\n",
       "<table border=\"1\" class=\"dataframe\">\n",
       "  <thead>\n",
       "    <tr style=\"text-align: right;\">\n",
       "      <th></th>\n",
       "      <th>Revenue</th>\n",
       "      <th>City</th>\n",
       "    </tr>\n",
       "  </thead>\n",
       "  <tbody>\n",
       "    <tr>\n",
       "      <th>0</th>\n",
       "      <td>11518</td>\n",
       "      <td>BTM</td>\n",
       "    </tr>\n",
       "    <tr>\n",
       "      <th>1</th>\n",
       "      <td>7000</td>\n",
       "      <td>HSR</td>\n",
       "    </tr>\n",
       "    <tr>\n",
       "      <th>2</th>\n",
       "      <td>300</td>\n",
       "      <td>Jayanagar</td>\n",
       "    </tr>\n",
       "    <tr>\n",
       "      <th>3</th>\n",
       "      <td>19061</td>\n",
       "      <td>Koramangala</td>\n",
       "    </tr>\n",
       "  </tbody>\n",
       "</table>\n",
       "</div>"
      ],
      "text/plain": [
       "   Revenue         City\n",
       "0    11518          BTM\n",
       "1     7000          HSR\n",
       "2      300    Jayanagar\n",
       "3    19061  Koramangala"
      ]
     },
     "execution_count": 62,
     "metadata": {},
     "output_type": "execute_result"
    }
   ],
   "source": [
    "Revenue={}\n",
    "\n",
    "Revenue['BTM']=BTM['Cost_for_Two'].sum()\n",
    "Revenue['HSR']=HSR['Cost_for_Two'].sum()\n",
    "Revenue['Jayanagar']=Jayanagar['Cost_for_Two'].sum()\n",
    "Revenue['Koramangala']=Koramangala['Cost_for_Two'].sum()\n",
    "\n",
    "Re=Revenue.values()\n",
    "city=Revenue.keys()\n",
    "    \n",
    "Revenue=pd.DataFrame()\n",
    "Revenue['Revenue'] = Re\n",
    "Revenue['City'] = city\n",
    "Revenue"
   ]
  },
  {
   "cell_type": "code",
   "execution_count": 64,
   "id": "847d8ee1",
   "metadata": {},
   "outputs": [
    {
     "data": {
      "image/png": "[encoded data removed]",
      "text/plain": [
       "<Figure size 432x288 with 1 Axes>"
      ]
     },
     "metadata": {
      "needs_background": "light"
     },
     "output_type": "display_data"
    }
   ],
   "source": [
    "sns.barplot(x=Revenue['City'], y=Revenue['Revenue'],data=Revenue)\n",
    "plt.xlabel('Revenue',fontsize=15)\n",
    "plt.ylabel('City',fontsize=15)\n",
    "plt.show()"
   ]
  },
  {
   "cell_type": "code",
   "execution_count": 66,
   "id": "2d33ae15",
   "metadata": {},
   "outputs": [
    {
     "name": "stderr",
     "output_type": "stream",
     "text": [
      "C:\\Users\\yadav\\AppData\\Local\\Programs\\Python\\Python310\\lib\\site-packages\\seaborn\\_decorators.py:36: FutureWarning: Pass the following variable as a keyword arg: x. From version 0.12, the only valid positional argument will be `data`, and passing other arguments without an explicit keyword will result in an error or misinterpretation.\n",
      "  warnings.warn(\n"
     ]
    },
    {
     "data": {
      "text/plain": [
       "Text(0.5, 1.0, 'Number of shop In Area')"
      ]
     },
     "execution_count": 66,
     "metadata": {},
     "output_type": "execute_result"
    },
    {
     "data": {
      "image/png": "[encoded data removed]",
      "text/plain": [
       "<Figure size 432x288 with 1 Axes>"
      ]
     },
     "metadata": {
      "needs_background": "light"
     },
     "output_type": "display_data"
    }
   ],
   "source": [
    "sns.countplot(df.Area)\n",
    "plt.title(\"Number of shop In Area\")"
   ]
  },
  {
   "cell_type": "code",
   "execution_count": 67,
   "id": "d58d82f8",
   "metadata": {},
   "outputs": [],
   "source": [
    "#Observations:\n",
    "#The highest revenue is in Kormangala area.\n",
    "#The maximum number of shops are in Kormangala area."
   ]
  },
  {
   "cell_type": "code",
   "execution_count": 68,
   "id": "29e2dabf",
   "metadata": {},
   "outputs": [
    {
     "name": "stdout",
     "output_type": "stream",
     "text": [
      "Cuisine Analysis\n"
     ]
    }
   ],
   "source": [
    "print('Cuisine Analysis')"
   ]
  },
  {
   "cell_type": "code",
   "execution_count": 69,
   "id": "50b63949",
   "metadata": {},
   "outputs": [
    {
     "data": {
      "text/plain": [
       "0                                                 Sweets\n",
       "1                 North Indian, Home Food, Thalis, Combo\n",
       "2      South Indian, North Indian, Fast Food, Beverag...\n",
       "3      American, Arabian, Chinese, Desserts, Fast Foo...\n",
       "4                                          Chinese, Thai\n",
       "                             ...                        \n",
       "113                            Pan-Asian, Chinese, Asian\n",
       "114    Arabian, Middle Eastern, North Indian, Grill, ...\n",
       "115              North Indian, Chinese, Seafood, Biryani\n",
       "116                                         North Indian\n",
       "117                                      Andhra, Biryani\n",
       "Name: Cuisine, Length: 118, dtype: object"
      ]
     },
     "execution_count": 69,
     "metadata": {},
     "output_type": "execute_result"
    }
   ],
   "source": [
    "df.Cuisine"
   ]
  },
  {
   "cell_type": "code",
   "execution_count": 72,
   "id": "ea1e2ca8",
   "metadata": {},
   "outputs": [
    {
     "data": {
      "text/plain": [
       "array(['Sweets', 'North Indian, Home Food, Thalis, Combo',\n",
       "       'South Indian, North Indian, Fast Food, Beverages, Jain',\n",
       "       'American, Arabian, Chinese, Desserts, Fast Food, Mughlai, North Indian',\n",
       "       'Chinese, Thai', 'North Indian',\n",
       "       'Fast Food, North Indian, Chinese', 'Italian',\n",
       "       'South Indian, Kerala, Chinese, North Indian',\n",
       "       'Pizzas, Italian, Mexican',\n",
       "       'Chinese, South Indian, North Indian, Desserts, Fast Food, Kerala, Andhra, Beverages, Mughlai, Seafood',\n",
       "       'Desserts', 'Chinese, Andhra, Biryani, Seafood', 'Chinese',\n",
       "       'South Indian, Chinese, Desserts, North Indian',\n",
       "       'Arabian, Fast Food', 'Desserts, Beverages', 'Indian, Rajasthani',\n",
       "       'Desserts, Bakery', 'Chinese, Healthy Food, North Indian',\n",
       "       'North Indian, Chinese, Hyderabadi', 'Fast Food',\n",
       "       'Chinese, Jain, North Indian, South Indian', 'Indian',\n",
       "       'North Indian, South Indian, Chinese',\n",
       "       'Andhra, Biryani, Chinese, Desserts, Fast Food, Seafood, South Indian',\n",
       "       'American, Fast Food',\n",
       "       'Biryani, Seafood, North Indian, Chinese, Desserts, Andhra, South Indian',\n",
       "       'Snacks, American', 'South Indian', 'Kerala, South Indian',\n",
       "       'Mexican', 'North Indian, Chinese, Biryani',\n",
       "       'Turkish, Portuguese, American', 'Biryani',\n",
       "       'South Indian, Snacks, North Indian, Chinese',\n",
       "       'Desserts, Fast Food, Sweets, Chaat',\n",
       "       'Chinese, South Indian, Andhra, Hyderabadi', 'Pizzas, Fast Food',\n",
       "       'Biryani, Mughlai, South Indian', 'Chinese, Asian',\n",
       "       'North Indian, Chinese, South Indian', 'Italian, Desserts, Pizzas',\n",
       "       'Biryani, Andhra, South Indian',\n",
       "       'Chinese, Continental, Italian, Mediterranean, Thai, Lebanese, American, Asian, Beverages, Bakery, Biryani, Cafe, Desserts, Healthy Food, Mexican, North Indian, Salads, Pizzas',\n",
       "       'Pizzas, Chinese, Pastas, Salads, American, Continental',\n",
       "       'Andhra, Biryani',\n",
       "       'Chinese, South Indian, North Indian, Fast Food',\n",
       "       'Fast Food, Beverages',\n",
       "       'Biryani, South Indian, North Indian, Fast Food, Andhra, Beverages, Mughlai, Seafood, Punjabi, Hyderabadi, Chinese',\n",
       "       'Beverages, Chinese',\n",
       "       'South Indian, Biryani, Kerala, North Indian, Chinese',\n",
       "       'Kerala, Chinese', 'North Indian, Chinese',\n",
       "       'Arabian, Beverages, Biryani, Chinese, Desserts, North Indian',\n",
       "       'Biryani, Juices, Kebabs', 'Andhra, South Indian',\n",
       "       'Beverages, Cafe, Snacks', 'North Indian, South Indian',\n",
       "       'Turkish, Portuguese, American, Grill',\n",
       "       'Home Food, Healthy Food, Indian', 'Ice Cream',\n",
       "       'Chinese, Hyderabadi, Biryani, Indian, South Indian, Andhra, Tandoor',\n",
       "       'Punjabi, North Indian, Chinese, Fast Food, Healthy Food, Mughlai, Desserts',\n",
       "       'American',\n",
       "       'Biryani, Hyderabadi, Andhra, North Indian, South Indian',\n",
       "       'Fast Food, Juices, North Indian',\n",
       "       'North Indian, Chaat, Snacks, Fast Food',\n",
       "       'Desserts, Mughlai, Seafood', 'Ice Cream, Desserts',\n",
       "       'Chinese, North Indian', 'Biryani, Kebabs',\n",
       "       'Andhra, Chettinad, Chinese, Mughlai, North Indian',\n",
       "       'Chettinad, South Indian',\n",
       "       'Continental, Indian, Pan-Asian, Oriental',\n",
       "       'North Indian, Biryani', 'Pan-Asian, Chinese, Asian',\n",
       "       'Arabian, Middle Eastern, North Indian, Grill, Seafood, Kerala, Chinese',\n",
       "       'North Indian, Chinese, Seafood, Biryani'], dtype=object)"
      ]
     },
     "execution_count": 72,
     "metadata": {},
     "output_type": "execute_result"
    }
   ],
   "source": [
    "w = df.Cuisine.unique()\n",
    "w"
   ]
  },
  {
   "cell_type": "code",
   "execution_count": 73,
   "id": "21a8b8c4",
   "metadata": {},
   "outputs": [
    {
     "data": {
      "text/plain": [
       "['Sweets',\n",
       " 'North Indian',\n",
       " 'Home Food',\n",
       " 'Thalis',\n",
       " 'Combo',\n",
       " 'South Indian',\n",
       " 'Fast Food',\n",
       " 'Beverages',\n",
       " 'Jain',\n",
       " 'American',\n",
       " 'Arabian',\n",
       " 'Chinese',\n",
       " 'Desserts',\n",
       " 'Mughlai',\n",
       " 'Thai',\n",
       " 'Italian',\n",
       " 'Kerala',\n",
       " 'Pizzas',\n",
       " 'Mexican',\n",
       " 'Andhra',\n",
       " 'Seafood',\n",
       " 'Biryani',\n",
       " 'Indian',\n",
       " 'Rajasthani',\n",
       " 'Bakery',\n",
       " 'Healthy Food',\n",
       " 'Hyderabadi',\n",
       " 'Snacks',\n",
       " 'Turkish',\n",
       " 'Portuguese',\n",
       " 'Chaat',\n",
       " 'Asian',\n",
       " 'Continental',\n",
       " 'Mediterranean',\n",
       " 'Lebanese',\n",
       " 'Cafe',\n",
       " 'Salads',\n",
       " 'Pastas',\n",
       " 'Punjabi',\n",
       " 'Juices',\n",
       " 'Kebabs',\n",
       " 'Grill',\n",
       " 'Ice Cream',\n",
       " 'Tandoor',\n",
       " 'Chettinad',\n",
       " 'Pan-Asian',\n",
       " 'Oriental',\n",
       " 'Middle Eastern']"
      ]
     },
     "execution_count": 73,
     "metadata": {},
     "output_type": "execute_result"
    }
   ],
   "source": [
    "cu=[]\n",
    "for i in w:\n",
    "    e=i.split(\",\")\n",
    "    for j in e:\n",
    "        if j[0]==\" \":\n",
    "            j=j[1:]\n",
    "        if j not in cu:\n",
    "            cu.append(j)\n",
    "\n",
    "cu"
   ]
  },
  {
   "cell_type": "code",
   "execution_count": 74,
   "id": "eeb14f06",
   "metadata": {},
   "outputs": [
    {
     "name": "stdout",
     "output_type": "stream",
     "text": [
      "{'Sweets': 2, 'North Indian': 32, 'Home Food': 2, 'Thalis': 1, 'Combo': 1, 'South Indian': 23, 'Fast Food': 16, 'Beverages': 9, 'Jain': 2, 'American': 8, 'Arabian': 4, 'Chinese': 35, 'Desserts': 15, 'Mughlai': 7, 'Thai': 2, 'Italian': 4, 'Kerala': 6, 'Pizzas': 5, 'Mexican': 3, 'Andhra': 12, 'Seafood': 8, 'Biryani': 18, 'Indian': 5, 'Rajasthani': 1, 'Bakery': 2, 'Healthy Food': 4, 'Hyderabadi': 5, 'Snacks': 4, 'Turkish': 2, 'Portuguese': 2, 'Chaat': 2, 'Asian': 3, 'Continental': 3, 'Mediterranean': 1, 'Lebanese': 1, 'Cafe': 2, 'Salads': 2, 'Pastas': 1, 'Punjabi': 2, 'Juices': 2, 'Kebabs': 2, 'Grill': 2, 'Ice Cream': 2, 'Tandoor': 1, 'Chettinad': 2, 'Pan-Asian': 2, 'Oriental': 1, 'Middle Eastern': 1}\n",
      "\n",
      "Total Records: \t 48\n"
     ]
    }
   ],
   "source": [
    "dict_Cuisine = {}\n",
    "for i in  df['Cuisine'].unique():\n",
    "    Cuisines_Lists = i.split(',')\n",
    "    for Cuisine in Cuisines_Lists:\n",
    "        Cuisine =Cuisine.lstrip(\" \")\n",
    "        if Cuisine in dict_Cuisine:\n",
    "            dict_Cuisine[Cuisine] = dict_Cuisine[Cuisine] + 1\n",
    "        else: \n",
    "            dict_Cuisine[Cuisine] = 1\n",
    "        \n",
    "print(dict_Cuisine)\n",
    "print()\n",
    "print('Total Records: \\t', len( dict_Cuisine))"
   ]
  },
  {
   "cell_type": "code",
   "execution_count": 80,
   "id": "26964bba",
   "metadata": {},
   "outputs": [
    {
     "data": {
      "text/html": [
       "<div>\n",
       "<style scoped>\n",
       "    .dataframe tbody tr th:only-of-type {\n",
       "        vertical-align: middle;\n",
       "    }\n",
       "\n",
       "    .dataframe tbody tr th {\n",
       "        vertical-align: top;\n",
       "    }\n",
       "\n",
       "    .dataframe thead th {\n",
       "        text-align: right;\n",
       "    }\n",
       "</style>\n",
       "<table border=\"1\" class=\"dataframe\">\n",
       "  <thead>\n",
       "    <tr style=\"text-align: right;\">\n",
       "      <th></th>\n",
       "      <th>Cuisine</th>\n",
       "      <th>Count</th>\n",
       "    </tr>\n",
       "  </thead>\n",
       "  <tbody>\n",
       "    <tr>\n",
       "      <th>0</th>\n",
       "      <td>Sweets</td>\n",
       "      <td>2</td>\n",
       "    </tr>\n",
       "    <tr>\n",
       "      <th>1</th>\n",
       "      <td>North Indian</td>\n",
       "      <td>32</td>\n",
       "    </tr>\n",
       "    <tr>\n",
       "      <th>2</th>\n",
       "      <td>Home Food</td>\n",
       "      <td>2</td>\n",
       "    </tr>\n",
       "    <tr>\n",
       "      <th>3</th>\n",
       "      <td>Thalis</td>\n",
       "      <td>1</td>\n",
       "    </tr>\n",
       "    <tr>\n",
       "      <th>4</th>\n",
       "      <td>Combo</td>\n",
       "      <td>1</td>\n",
       "    </tr>\n",
       "  </tbody>\n",
       "</table>\n",
       "</div>"
      ],
      "text/plain": [
       "        Cuisine  Count\n",
       "0        Sweets      2\n",
       "1  North Indian     32\n",
       "2     Home Food      2\n",
       "3        Thalis      1\n",
       "4         Combo      1"
      ]
     },
     "execution_count": 80,
     "metadata": {},
     "output_type": "execute_result"
    }
   ],
   "source": [
    "Cuisine = dict_Cuisine.keys()\n",
    "freq = dict_Cuisine.values()\n",
    "df_Cuisine_Analysis = pd.DataFrame()\n",
    "df_Cuisine_Analysis['Cuisine'] = Cuisine\n",
    "df_Cuisine_Analysis['Count'] = freq\n",
    "df_Cuisine_Analysis.head()"
   ]
  },
  {
   "cell_type": "code",
   "execution_count": 81,
   "id": "2bf3367b",
   "metadata": {},
   "outputs": [
    {
     "data": {
      "text/html": [
       "<div>\n",
       "<style scoped>\n",
       "    .dataframe tbody tr th:only-of-type {\n",
       "        vertical-align: middle;\n",
       "    }\n",
       "\n",
       "    .dataframe tbody tr th {\n",
       "        vertical-align: top;\n",
       "    }\n",
       "\n",
       "    .dataframe thead th {\n",
       "        text-align: right;\n",
       "    }\n",
       "</style>\n",
       "<table border=\"1\" class=\"dataframe\">\n",
       "  <thead>\n",
       "    <tr style=\"text-align: right;\">\n",
       "      <th></th>\n",
       "      <th>Cuisine</th>\n",
       "      <th>Count</th>\n",
       "    </tr>\n",
       "  </thead>\n",
       "  <tbody>\n",
       "    <tr>\n",
       "      <th>0</th>\n",
       "      <td>Sweets</td>\n",
       "      <td>2</td>\n",
       "    </tr>\n",
       "    <tr>\n",
       "      <th>1</th>\n",
       "      <td>North Indian</td>\n",
       "      <td>32</td>\n",
       "    </tr>\n",
       "    <tr>\n",
       "      <th>2</th>\n",
       "      <td>Home Food</td>\n",
       "      <td>2</td>\n",
       "    </tr>\n",
       "    <tr>\n",
       "      <th>3</th>\n",
       "      <td>Thalis</td>\n",
       "      <td>1</td>\n",
       "    </tr>\n",
       "    <tr>\n",
       "      <th>4</th>\n",
       "      <td>Combo</td>\n",
       "      <td>1</td>\n",
       "    </tr>\n",
       "    <tr>\n",
       "      <th>5</th>\n",
       "      <td>South Indian</td>\n",
       "      <td>23</td>\n",
       "    </tr>\n",
       "    <tr>\n",
       "      <th>6</th>\n",
       "      <td>Fast Food</td>\n",
       "      <td>16</td>\n",
       "    </tr>\n",
       "    <tr>\n",
       "      <th>7</th>\n",
       "      <td>Beverages</td>\n",
       "      <td>9</td>\n",
       "    </tr>\n",
       "    <tr>\n",
       "      <th>8</th>\n",
       "      <td>Jain</td>\n",
       "      <td>2</td>\n",
       "    </tr>\n",
       "    <tr>\n",
       "      <th>9</th>\n",
       "      <td>American</td>\n",
       "      <td>8</td>\n",
       "    </tr>\n",
       "    <tr>\n",
       "      <th>10</th>\n",
       "      <td>Arabian</td>\n",
       "      <td>4</td>\n",
       "    </tr>\n",
       "    <tr>\n",
       "      <th>11</th>\n",
       "      <td>Chinese</td>\n",
       "      <td>35</td>\n",
       "    </tr>\n",
       "    <tr>\n",
       "      <th>12</th>\n",
       "      <td>Desserts</td>\n",
       "      <td>15</td>\n",
       "    </tr>\n",
       "    <tr>\n",
       "      <th>13</th>\n",
       "      <td>Mughlai</td>\n",
       "      <td>7</td>\n",
       "    </tr>\n",
       "    <tr>\n",
       "      <th>14</th>\n",
       "      <td>Thai</td>\n",
       "      <td>2</td>\n",
       "    </tr>\n",
       "    <tr>\n",
       "      <th>15</th>\n",
       "      <td>Italian</td>\n",
       "      <td>4</td>\n",
       "    </tr>\n",
       "    <tr>\n",
       "      <th>16</th>\n",
       "      <td>Kerala</td>\n",
       "      <td>6</td>\n",
       "    </tr>\n",
       "    <tr>\n",
       "      <th>17</th>\n",
       "      <td>Pizzas</td>\n",
       "      <td>5</td>\n",
       "    </tr>\n",
       "    <tr>\n",
       "      <th>18</th>\n",
       "      <td>Mexican</td>\n",
       "      <td>3</td>\n",
       "    </tr>\n",
       "    <tr>\n",
       "      <th>19</th>\n",
       "      <td>Andhra</td>\n",
       "      <td>12</td>\n",
       "    </tr>\n",
       "    <tr>\n",
       "      <th>20</th>\n",
       "      <td>Seafood</td>\n",
       "      <td>8</td>\n",
       "    </tr>\n",
       "    <tr>\n",
       "      <th>21</th>\n",
       "      <td>Biryani</td>\n",
       "      <td>18</td>\n",
       "    </tr>\n",
       "    <tr>\n",
       "      <th>22</th>\n",
       "      <td>Indian</td>\n",
       "      <td>5</td>\n",
       "    </tr>\n",
       "    <tr>\n",
       "      <th>23</th>\n",
       "      <td>Rajasthani</td>\n",
       "      <td>1</td>\n",
       "    </tr>\n",
       "    <tr>\n",
       "      <th>24</th>\n",
       "      <td>Bakery</td>\n",
       "      <td>2</td>\n",
       "    </tr>\n",
       "    <tr>\n",
       "      <th>25</th>\n",
       "      <td>Healthy Food</td>\n",
       "      <td>4</td>\n",
       "    </tr>\n",
       "    <tr>\n",
       "      <th>26</th>\n",
       "      <td>Hyderabadi</td>\n",
       "      <td>5</td>\n",
       "    </tr>\n",
       "    <tr>\n",
       "      <th>27</th>\n",
       "      <td>Snacks</td>\n",
       "      <td>4</td>\n",
       "    </tr>\n",
       "    <tr>\n",
       "      <th>28</th>\n",
       "      <td>Turkish</td>\n",
       "      <td>2</td>\n",
       "    </tr>\n",
       "    <tr>\n",
       "      <th>29</th>\n",
       "      <td>Portuguese</td>\n",
       "      <td>2</td>\n",
       "    </tr>\n",
       "    <tr>\n",
       "      <th>30</th>\n",
       "      <td>Chaat</td>\n",
       "      <td>2</td>\n",
       "    </tr>\n",
       "    <tr>\n",
       "      <th>31</th>\n",
       "      <td>Asian</td>\n",
       "      <td>3</td>\n",
       "    </tr>\n",
       "    <tr>\n",
       "      <th>32</th>\n",
       "      <td>Continental</td>\n",
       "      <td>3</td>\n",
       "    </tr>\n",
       "    <tr>\n",
       "      <th>33</th>\n",
       "      <td>Mediterranean</td>\n",
       "      <td>1</td>\n",
       "    </tr>\n",
       "    <tr>\n",
       "      <th>34</th>\n",
       "      <td>Lebanese</td>\n",
       "      <td>1</td>\n",
       "    </tr>\n",
       "    <tr>\n",
       "      <th>35</th>\n",
       "      <td>Cafe</td>\n",
       "      <td>2</td>\n",
       "    </tr>\n",
       "    <tr>\n",
       "      <th>36</th>\n",
       "      <td>Salads</td>\n",
       "      <td>2</td>\n",
       "    </tr>\n",
       "    <tr>\n",
       "      <th>37</th>\n",
       "      <td>Pastas</td>\n",
       "      <td>1</td>\n",
       "    </tr>\n",
       "    <tr>\n",
       "      <th>38</th>\n",
       "      <td>Punjabi</td>\n",
       "      <td>2</td>\n",
       "    </tr>\n",
       "    <tr>\n",
       "      <th>39</th>\n",
       "      <td>Juices</td>\n",
       "      <td>2</td>\n",
       "    </tr>\n",
       "    <tr>\n",
       "      <th>40</th>\n",
       "      <td>Kebabs</td>\n",
       "      <td>2</td>\n",
       "    </tr>\n",
       "    <tr>\n",
       "      <th>41</th>\n",
       "      <td>Grill</td>\n",
       "      <td>2</td>\n",
       "    </tr>\n",
       "    <tr>\n",
       "      <th>42</th>\n",
       "      <td>Ice Cream</td>\n",
       "      <td>2</td>\n",
       "    </tr>\n",
       "    <tr>\n",
       "      <th>43</th>\n",
       "      <td>Tandoor</td>\n",
       "      <td>1</td>\n",
       "    </tr>\n",
       "    <tr>\n",
       "      <th>44</th>\n",
       "      <td>Chettinad</td>\n",
       "      <td>2</td>\n",
       "    </tr>\n",
       "    <tr>\n",
       "      <th>45</th>\n",
       "      <td>Pan-Asian</td>\n",
       "      <td>2</td>\n",
       "    </tr>\n",
       "    <tr>\n",
       "      <th>46</th>\n",
       "      <td>Oriental</td>\n",
       "      <td>1</td>\n",
       "    </tr>\n",
       "    <tr>\n",
       "      <th>47</th>\n",
       "      <td>Middle Eastern</td>\n",
       "      <td>1</td>\n",
       "    </tr>\n",
       "  </tbody>\n",
       "</table>\n",
       "</div>"
      ],
      "text/plain": [
       "           Cuisine  Count\n",
       "0           Sweets      2\n",
       "1     North Indian     32\n",
       "2        Home Food      2\n",
       "3           Thalis      1\n",
       "4            Combo      1\n",
       "5     South Indian     23\n",
       "6        Fast Food     16\n",
       "7        Beverages      9\n",
       "8             Jain      2\n",
       "9         American      8\n",
       "10         Arabian      4\n",
       "11         Chinese     35\n",
       "12        Desserts     15\n",
       "13         Mughlai      7\n",
       "14            Thai      2\n",
       "15         Italian      4\n",
       "16          Kerala      6\n",
       "17          Pizzas      5\n",
       "18         Mexican      3\n",
       "19          Andhra     12\n",
       "20         Seafood      8\n",
       "21         Biryani     18\n",
       "22          Indian      5\n",
       "23      Rajasthani      1\n",
       "24          Bakery      2\n",
       "25    Healthy Food      4\n",
       "26      Hyderabadi      5\n",
       "27          Snacks      4\n",
       "28         Turkish      2\n",
       "29      Portuguese      2\n",
       "30           Chaat      2\n",
       "31           Asian      3\n",
       "32     Continental      3\n",
       "33   Mediterranean      1\n",
       "34        Lebanese      1\n",
       "35            Cafe      2\n",
       "36          Salads      2\n",
       "37          Pastas      1\n",
       "38         Punjabi      2\n",
       "39          Juices      2\n",
       "40          Kebabs      2\n",
       "41           Grill      2\n",
       "42       Ice Cream      2\n",
       "43         Tandoor      1\n",
       "44       Chettinad      2\n",
       "45       Pan-Asian      2\n",
       "46        Oriental      1\n",
       "47  Middle Eastern      1"
      ]
     },
     "execution_count": 81,
     "metadata": {},
     "output_type": "execute_result"
    }
   ],
   "source": [
    "df_Cuisine_Analysis"
   ]
  },
  {
   "cell_type": "code",
   "execution_count": 86,
   "id": "fa09a94e",
   "metadata": {},
   "outputs": [
    {
     "data": {
      "image/png": "[encoded data removed]",
      "text/plain": [
       "<Figure size 1440x576 with 1 Axes>"
      ]
     },
     "metadata": {
      "needs_background": "light"
     },
     "output_type": "display_data"
    }
   ],
   "source": [
    "plt.figure(figsize = (20, 8))\n",
    "sns.barplot(x = df_Cuisine_Analysis['Cuisine'], \n",
    "            y = df_Cuisine_Analysis['Count'], \n",
    "            data = df_Cuisine_Analysis)\n",
    "plt.xticks(rotation = 90)\n",
    "plt.title('Overall Cuisines Analysis', fontsize = 14, fontweight = 'bold', fontstyle = 'italic')\n",
    "plt.xlabel('Cuisine', fontsize = 11, fontweight = 'bold')\n",
    "plt.ylabel('Number of Restaurants', fontsize = 11, fontweight = 'bold')\n",
    "plt.show()"
   ]
  },
  {
   "cell_type": "code",
   "execution_count": 83,
   "id": "b041a223",
   "metadata": {},
   "outputs": [
    {
     "data": {
      "text/html": [
       "<div>\n",
       "<style scoped>\n",
       "    .dataframe tbody tr th:only-of-type {\n",
       "        vertical-align: middle;\n",
       "    }\n",
       "\n",
       "    .dataframe tbody tr th {\n",
       "        vertical-align: top;\n",
       "    }\n",
       "\n",
       "    .dataframe thead th {\n",
       "        text-align: right;\n",
       "    }\n",
       "</style>\n",
       "<table border=\"1\" class=\"dataframe\">\n",
       "  <thead>\n",
       "    <tr style=\"text-align: right;\">\n",
       "      <th></th>\n",
       "      <th>Cuisine</th>\n",
       "      <th>Count</th>\n",
       "    </tr>\n",
       "  </thead>\n",
       "  <tbody>\n",
       "    <tr>\n",
       "      <th>11</th>\n",
       "      <td>Chinese</td>\n",
       "      <td>35</td>\n",
       "    </tr>\n",
       "    <tr>\n",
       "      <th>1</th>\n",
       "      <td>North Indian</td>\n",
       "      <td>32</td>\n",
       "    </tr>\n",
       "    <tr>\n",
       "      <th>5</th>\n",
       "      <td>South Indian</td>\n",
       "      <td>23</td>\n",
       "    </tr>\n",
       "    <tr>\n",
       "      <th>21</th>\n",
       "      <td>Biryani</td>\n",
       "      <td>18</td>\n",
       "    </tr>\n",
       "    <tr>\n",
       "      <th>6</th>\n",
       "      <td>Fast Food</td>\n",
       "      <td>16</td>\n",
       "    </tr>\n",
       "    <tr>\n",
       "      <th>12</th>\n",
       "      <td>Desserts</td>\n",
       "      <td>15</td>\n",
       "    </tr>\n",
       "    <tr>\n",
       "      <th>19</th>\n",
       "      <td>Andhra</td>\n",
       "      <td>12</td>\n",
       "    </tr>\n",
       "    <tr>\n",
       "      <th>7</th>\n",
       "      <td>Beverages</td>\n",
       "      <td>9</td>\n",
       "    </tr>\n",
       "    <tr>\n",
       "      <th>9</th>\n",
       "      <td>American</td>\n",
       "      <td>8</td>\n",
       "    </tr>\n",
       "    <tr>\n",
       "      <th>20</th>\n",
       "      <td>Seafood</td>\n",
       "      <td>8</td>\n",
       "    </tr>\n",
       "  </tbody>\n",
       "</table>\n",
       "</div>"
      ],
      "text/plain": [
       "         Cuisine  Count\n",
       "11       Chinese     35\n",
       "1   North Indian     32\n",
       "5   South Indian     23\n",
       "21       Biryani     18\n",
       "6      Fast Food     16\n",
       "12      Desserts     15\n",
       "19        Andhra     12\n",
       "7      Beverages      9\n",
       "9       American      8\n",
       "20       Seafood      8"
      ]
     },
     "execution_count": 83,
     "metadata": {},
     "output_type": "execute_result"
    }
   ],
   "source": [
    "df_Cuisine_sort=df_Cuisine_Analysis.sort_values(by='Count',ascending=False).head(10)\n",
    "df_Cuisine_sort"
   ]
  },
  {
   "cell_type": "code",
   "execution_count": 84,
   "id": "58fcc371",
   "metadata": {},
   "outputs": [
    {
     "data": {
      "image/png": "[encoded data removed]",
      "text/plain": [
       "<Figure size 432x288 with 1 Axes>"
      ]
     },
     "metadata": {},
     "output_type": "display_data"
    }
   ],
   "source": [
    "plt.pie(df_Cuisine_sort['Count'],labels=df_Cuisine_sort['Cuisine'],autopct='%.2f%%')\n",
    "plt.show()"
   ]
  },
  {
   "cell_type": "code",
   "execution_count": 85,
   "id": "5c529baf",
   "metadata": {},
   "outputs": [],
   "source": [
    "#Observations:\n",
    "#From above findings, we can conclude saying Chinese and north-indian cuisine are most popular."
   ]
  }
 ],
 "metadata": {
  "kernelspec": {
   "display_name": "Python 3 (ipykernel)",
   "language": "python",
   "name": "python3"
  },
  "language_info": {
   "codemirror_mode": {
    "name": "ipython",
    "version": 3
   },
   "file_extension": ".py",
   "mimetype": "text/x-python",
   "name": "python",
   "nbconvert_exporter": "python",
   "pygments_lexer": "ipython3",
   "version": "3.10.4"
  }
 },
 "nbformat": 4,
 "nbformat_minor": 5
}
